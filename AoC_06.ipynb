{
  "nbformat": 4,
  "nbformat_minor": 0,
  "metadata": {
    "colab": {
      "provenance": [],
      "authorship_tag": "ABX9TyOzvmUHwEAZ323atb18GM1l",
      "include_colab_link": true
    },
    "kernelspec": {
      "name": "python3",
      "display_name": "Python 3"
    },
    "language_info": {
      "name": "python"
    }
  },
  "cells": [
    {
      "cell_type": "markdown",
      "metadata": {
        "id": "view-in-github",
        "colab_type": "text"
      },
      "source": [
        "<a href=\"https://colab.research.google.com/github/ihawryluk/advent-of-code-2023/blob/main/AoC_06.ipynb\" target=\"_parent\"><img src=\"https://colab.research.google.com/assets/colab-badge.svg\" alt=\"Open In Colab\"/></a>"
      ]
    },
    {
      "cell_type": "code",
      "execution_count": 1,
      "metadata": {
        "id": "Nr_QHZoQmw1-"
      },
      "outputs": [],
      "source": [
        "import numpy\n",
        "import re"
      ]
    },
    {
      "cell_type": "markdown",
      "source": [
        "# Task 1"
      ],
      "metadata": {
        "id": "KJn3OIf2m1TD"
      }
    },
    {
      "cell_type": "code",
      "source": [
        "test_01 = \"\"\"Time:      7  15   30\n",
        "Distance:  9  40  200\"\"\"\n",
        "\n",
        "test_01_result = 288"
      ],
      "metadata": {
        "id": "m53NCkrNm0MR"
      },
      "execution_count": 2,
      "outputs": []
    },
    {
      "cell_type": "code",
      "source": [
        "def get_the_numbers(input):\n",
        "  return [int(el) for el in re.findall(r'\\d+', input)]\n",
        "\n",
        "print(get_the_numbers(test_01))\n",
        "\n",
        "def get_the_times_and_distances(input):\n",
        "  all_numbers = get_the_numbers(input)\n",
        "  n = len(all_numbers)\n",
        "  times = all_numbers[0:int(n/2)]\n",
        "  distances = all_numbers[int(n/2):]\n",
        "  return times, distances\n",
        "\n",
        "print(get_the_times_and_distances(test_01))\n"
      ],
      "metadata": {
        "colab": {
          "base_uri": "https://localhost:8080/"
        },
        "id": "wB-DKsrGnANs",
        "outputId": "b0d0ccbb-e050-4e09-eacf-0bd25f6d3b9e"
      },
      "execution_count": 4,
      "outputs": [
        {
          "output_type": "stream",
          "name": "stdout",
          "text": [
            "[7, 15, 30, 9, 40, 200]\n",
            "([7, 15, 30], [9, 40, 200])\n"
          ]
        }
      ]
    },
    {
      "cell_type": "code",
      "source": [
        "def calculate_distance(time_button, time_total):\n",
        "  assert(time_button <= time_total)\n",
        "  time_left = time_total - time_button\n",
        "  return time_left * time_button\n",
        "\n",
        "print(calculate_distance(0, 7) == 0)\n",
        "print(calculate_distance(3, 7) == 12)\n",
        "print(calculate_distance(5, 7) == 10)\n",
        "print(calculate_distance(7, 7) == 0)"
      ],
      "metadata": {
        "colab": {
          "base_uri": "https://localhost:8080/"
        },
        "id": "4utXBl32nab9",
        "outputId": "130116e1-7d03-4450-fa7d-33974408c598"
      },
      "execution_count": 7,
      "outputs": [
        {
          "output_type": "stream",
          "name": "stdout",
          "text": [
            "True\n",
            "True\n",
            "True\n",
            "True\n"
          ]
        }
      ]
    },
    {
      "cell_type": "markdown",
      "source": [
        "Probably the fastest way would be to start in the middle, as the distances will grow until the peak and then start decreasing. OR maybe we could even calculate where the peak is."
      ],
      "metadata": {
        "id": "eTFGazhOorTU"
      }
    },
    {
      "cell_type": "code",
      "source": [
        "def calculate_all_poss_distances(time_total):\n",
        "  result = []\n",
        "  for i in range(1, time_total):\n",
        "    result.append(calculate_distance(i, time_total))\n",
        "  return result\n",
        "\n",
        "print(calculate_all_poss_distances(7))\n",
        "print(calculate_all_poss_distances(8))\n",
        "print(calculate_all_poss_distances(15))\n",
        "print(calculate_all_poss_distances(30))\n"
      ],
      "metadata": {
        "colab": {
          "base_uri": "https://localhost:8080/"
        },
        "id": "Q2ez3SudoZhe",
        "outputId": "82fbced8-c606-4f70-ef26-382d8d891b0a"
      },
      "execution_count": 13,
      "outputs": [
        {
          "output_type": "stream",
          "name": "stdout",
          "text": [
            "[6, 10, 12, 12, 10, 6]\n",
            "[7, 12, 15, 16, 15, 12, 7]\n",
            "[14, 26, 36, 44, 50, 54, 56, 56, 54, 50, 44, 36, 26, 14]\n",
            "[29, 56, 81, 104, 125, 144, 161, 176, 189, 200, 209, 216, 221, 224, 225, 224, 221, 216, 209, 200, 189, 176, 161, 144, 125, 104, 81, 56, 29]\n"
          ]
        }
      ]
    },
    {
      "cell_type": "markdown",
      "source": [
        "Ok clearly these are symmetric. So we should be calculating half of them and the rest we have for free"
      ],
      "metadata": {
        "id": "sziG_1evqL0r"
      }
    },
    {
      "cell_type": "code",
      "source": [
        "def calculate_all_poss_distances(time_total):\n",
        "  result = []\n",
        "  for i in range(1, int(time_total / 2)+1):   # little fix due to how the range and for loop work\n",
        "    result.append(calculate_distance(i, time_total))\n",
        "  temp = result[0:int((time_total-1)/2)][::-1]\n",
        "  return result + temp\n",
        "\n",
        "print(calculate_all_poss_distances(7))\n",
        "print(calculate_all_poss_distances(8))\n",
        "print(calculate_all_poss_distances(15))\n",
        "print(calculate_all_poss_distances(30))"
      ],
      "metadata": {
        "colab": {
          "base_uri": "https://localhost:8080/"
        },
        "id": "2fqxw1Frpq_T",
        "outputId": "56fbb136-ab2e-486a-f54a-7bf57650e8a5"
      },
      "execution_count": 41,
      "outputs": [
        {
          "output_type": "stream",
          "name": "stdout",
          "text": [
            "[6, 10, 12, 12, 10, 6]\n",
            "[7, 12, 15, 16, 15, 12, 7]\n",
            "[14, 26, 36, 44, 50, 54, 56, 56, 54, 50, 44, 36, 26, 14]\n",
            "[29, 56, 81, 104, 125, 144, 161, 176, 189, 200, 209, 216, 221, 224, 225, 224, 221, 216, 209, 200, 189, 176, 161, 144, 125, 104, 81, 56, 29]\n"
          ]
        }
      ]
    },
    {
      "cell_type": "code",
      "source": [
        "for i in range(1, int(8/2)+1):\n",
        "  print(i)"
      ],
      "metadata": {
        "colab": {
          "base_uri": "https://localhost:8080/"
        },
        "id": "nPDZump8quIH",
        "outputId": "537b8290-309a-49c0-b89d-d857bc9131bc"
      },
      "execution_count": 19,
      "outputs": [
        {
          "output_type": "stream",
          "name": "stdout",
          "text": [
            "1\n",
            "2\n",
            "3\n",
            "4\n"
          ]
        }
      ]
    },
    {
      "cell_type": "code",
      "source": [
        "def check_how_many_dist_win(time_total, time_win):\n",
        "  all_dist = calculate_all_poss_distances(time_total)\n",
        "  return sum([el > time_win for el in all_dist])\n",
        "\n",
        "print(check_how_many_dist_win(7,9))\n",
        "print(check_how_many_dist_win(15,40))\n",
        "print(check_how_many_dist_win(30,200))\n"
      ],
      "metadata": {
        "colab": {
          "base_uri": "https://localhost:8080/"
        },
        "id": "XA6ryIbEsMjZ",
        "outputId": "6717a7a0-e0de-4c46-e5e3-c6846dca7c7f"
      },
      "execution_count": 44,
      "outputs": [
        {
          "output_type": "stream",
          "name": "stdout",
          "text": [
            "4\n",
            "8\n",
            "9\n"
          ]
        }
      ]
    },
    {
      "cell_type": "code",
      "source": [
        "def get_final_answer(input):\n",
        "  times, distances = get_the_times_and_distances(input)\n",
        "  result = 1\n",
        "  for i in range(len(times)):\n",
        "    multiplier = check_how_many_dist_win(times[i], distances[i])\n",
        "    result *= multiplier\n",
        "  return result"
      ],
      "metadata": {
        "id": "aifTBQrKuboi"
      },
      "execution_count": 49,
      "outputs": []
    },
    {
      "cell_type": "code",
      "source": [
        "get_final_answer(test_01)"
      ],
      "metadata": {
        "colab": {
          "base_uri": "https://localhost:8080/"
        },
        "id": "3ubWvDqxvDb5",
        "outputId": "51a3fcf2-36a3-4bdb-a933-975aaee481eb"
      },
      "execution_count": 50,
      "outputs": [
        {
          "output_type": "execute_result",
          "data": {
            "text/plain": [
              "288"
            ]
          },
          "metadata": {},
          "execution_count": 50
        }
      ]
    },
    {
      "cell_type": "code",
      "source": [
        "input = \"\"\"Time:        40     92     97     90\n",
        "Distance:   215   1064   1505   1100\"\"\""
      ],
      "metadata": {
        "id": "L1JhS3ZKvKIB"
      },
      "execution_count": 51,
      "outputs": []
    },
    {
      "cell_type": "code",
      "source": [
        "get_final_answer(input)"
      ],
      "metadata": {
        "colab": {
          "base_uri": "https://localhost:8080/"
        },
        "id": "Vc7jtQnFvRCR",
        "outputId": "c15d74ae-d77d-4612-c190-9195e2b7b853"
      },
      "execution_count": 52,
      "outputs": [
        {
          "output_type": "execute_result",
          "data": {
            "text/plain": [
              "6209190"
            ]
          },
          "metadata": {},
          "execution_count": 52
        }
      ]
    },
    {
      "cell_type": "markdown",
      "source": [
        "# Task 2\n"
      ],
      "metadata": {
        "id": "HZAUxDycvVYr"
      }
    },
    {
      "cell_type": "code",
      "source": [
        "def get_fixed_input(input):\n",
        "  input = input.replace(' ', '')\n",
        "  time, distance = get_the_times_and_distances(input)\n",
        "  return time, distance\n",
        "\n",
        "print(get_fixed_input(test_01))\n"
      ],
      "metadata": {
        "colab": {
          "base_uri": "https://localhost:8080/"
        },
        "id": "dscpyYS5vSLx",
        "outputId": "5affe86a-022b-46c5-c87e-c5c6c911621a"
      },
      "execution_count": 59,
      "outputs": [
        {
          "output_type": "stream",
          "name": "stdout",
          "text": [
            "([71530], [940200])\n"
          ]
        }
      ]
    },
    {
      "cell_type": "code",
      "source": [
        "def get_final_answer2(input):\n",
        "  time, distance = get_fixed_input(input)\n",
        "  return check_how_many_dist_win(time[0], distance[0])"
      ],
      "metadata": {
        "id": "EkuU4ykWvWRx"
      },
      "execution_count": 60,
      "outputs": []
    },
    {
      "cell_type": "code",
      "source": [
        "get_final_answer2(test_01)"
      ],
      "metadata": {
        "colab": {
          "base_uri": "https://localhost:8080/"
        },
        "id": "9FFGL6dLwdZ7",
        "outputId": "0ed1737a-b752-4a6b-d716-3f6113d1d7de"
      },
      "execution_count": 61,
      "outputs": [
        {
          "output_type": "execute_result",
          "data": {
            "text/plain": [
              "71503"
            ]
          },
          "metadata": {},
          "execution_count": 61
        }
      ]
    },
    {
      "cell_type": "code",
      "source": [
        "get_final_answer2(input)"
      ],
      "metadata": {
        "colab": {
          "base_uri": "https://localhost:8080/"
        },
        "id": "bVxlzZ-xwgtx",
        "outputId": "2b3d38c8-eeaa-43b7-b6bd-44330d891925"
      },
      "execution_count": 62,
      "outputs": [
        {
          "output_type": "execute_result",
          "data": {
            "text/plain": [
              "28545089"
            ]
          },
          "metadata": {},
          "execution_count": 62
        }
      ]
    },
    {
      "cell_type": "code",
      "source": [],
      "metadata": {
        "id": "dCW7uuS2wuwo"
      },
      "execution_count": null,
      "outputs": []
    }
  ]
}