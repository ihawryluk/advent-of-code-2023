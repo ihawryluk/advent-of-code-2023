{
  "nbformat": 4,
  "nbformat_minor": 0,
  "metadata": {
    "colab": {
      "provenance": [],
      "authorship_tag": "ABX9TyMqjrg6UzIXzVzUe8LSVrPy",
      "include_colab_link": true
    },
    "kernelspec": {
      "name": "python3",
      "display_name": "Python 3"
    },
    "language_info": {
      "name": "python"
    }
  },
  "cells": [
    {
      "cell_type": "markdown",
      "metadata": {
        "id": "view-in-github",
        "colab_type": "text"
      },
      "source": [
        "<a href=\"https://colab.research.google.com/github/ihawryluk/advent-of-code-2023/blob/main/AoC_14.ipynb\" target=\"_parent\"><img src=\"https://colab.research.google.com/assets/colab-badge.svg\" alt=\"Open In Colab\"/></a>"
      ]
    },
    {
      "cell_type": "code",
      "source": [
        "import re\n",
        "import numpy as np\n",
        "import matplotlib.pyplot as plt"
      ],
      "metadata": {
        "id": "UErX2l85CfZy"
      },
      "execution_count": 33,
      "outputs": []
    },
    {
      "cell_type": "markdown",
      "source": [
        "# Task 1"
      ],
      "metadata": {
        "id": "a_IePtEPCR6I"
      }
    },
    {
      "cell_type": "code",
      "execution_count": 2,
      "metadata": {
        "id": "IeMU48j1COLx"
      },
      "outputs": [],
      "source": [
        "test_01 = \"\"\"O....#....\n",
        "O.OO#....#\n",
        ".....##...\n",
        "OO.#O....O\n",
        ".O.....O#.\n",
        "O.#..O.#.#\n",
        "..O..#O..O\n",
        ".......O..\n",
        "#....###..\n",
        "#OO..#....\"\"\"\n",
        "\n",
        "test_01_out = \"\"\"OOOO.#.O..\n",
        "OO..#....#\n",
        "OO..O##..O\n",
        "O..#.OO...\n",
        "........#.\n",
        "..#....#.#\n",
        "..O..#.O.O\n",
        "..O.......\n",
        "#....###..\n",
        "#....#....\"\"\""
      ]
    },
    {
      "cell_type": "code",
      "source": [
        "def replace(input):\n",
        "  input = input.replace('O', '0')\n",
        "  input = input.replace('#', '8')\n",
        "  input = input.replace('.', '1')\n",
        "  return input\n",
        "\n",
        "def string_to_array(input):\n",
        "  split_lines = input.split('\\n')\n",
        "  list_of_arrays = []\n",
        "  for line in split_lines:\n",
        "    line = re.sub(r'([0-9])(?!$)', r'\\1,', line)   # insert comma after every element\n",
        "    line = np.fromstring(line, dtype=int, sep=',')\n",
        "    list_of_arrays.append(line)\n",
        "  return np.stack(list_of_arrays)"
      ],
      "metadata": {
        "id": "WXXMmhcwCXIF"
      },
      "execution_count": 3,
      "outputs": []
    },
    {
      "cell_type": "code",
      "source": [
        "test_01_rep = replace(test_01)\n",
        "string_to_array(test_01_rep)"
      ],
      "metadata": {
        "colab": {
          "base_uri": "https://localhost:8080/"
        },
        "id": "oeNPhtt6EGed",
        "outputId": "ebea33a5-d7c6-49be-d584-e83b82dbbc62"
      },
      "execution_count": 4,
      "outputs": [
        {
          "output_type": "execute_result",
          "data": {
            "text/plain": [
              "array([[0, 1, 1, 1, 1, 8, 1, 1, 1, 1],\n",
              "       [0, 1, 0, 0, 8, 1, 1, 1, 1, 8],\n",
              "       [1, 1, 1, 1, 1, 8, 8, 1, 1, 1],\n",
              "       [0, 0, 1, 8, 0, 1, 1, 1, 1, 0],\n",
              "       [1, 0, 1, 1, 1, 1, 1, 0, 8, 1],\n",
              "       [0, 1, 8, 1, 1, 0, 1, 8, 1, 8],\n",
              "       [1, 1, 0, 1, 1, 8, 0, 1, 1, 0],\n",
              "       [1, 1, 1, 1, 1, 1, 1, 0, 1, 1],\n",
              "       [8, 1, 1, 1, 1, 8, 8, 8, 1, 1],\n",
              "       [8, 0, 0, 1, 1, 8, 1, 1, 1, 1]])"
            ]
          },
          "metadata": {},
          "execution_count": 4
        }
      ]
    },
    {
      "cell_type": "code",
      "source": [
        "array = string_to_array(test_01_rep)\n",
        "out = string_to_array(replace(test_01_out))"
      ],
      "metadata": {
        "id": "4fruxhazFmkT"
      },
      "execution_count": 5,
      "outputs": []
    },
    {
      "cell_type": "code",
      "source": [
        "stones = np.argwhere(array == 0)\n",
        "stones"
      ],
      "metadata": {
        "colab": {
          "base_uri": "https://localhost:8080/"
        },
        "id": "104e4o-MFoyt",
        "outputId": "61564392-bcb7-4b3d-e0a7-3eabd1f86959"
      },
      "execution_count": 6,
      "outputs": [
        {
          "output_type": "execute_result",
          "data": {
            "text/plain": [
              "array([[0, 0],\n",
              "       [1, 0],\n",
              "       [1, 2],\n",
              "       [1, 3],\n",
              "       [3, 0],\n",
              "       [3, 1],\n",
              "       [3, 4],\n",
              "       [3, 9],\n",
              "       [4, 1],\n",
              "       [4, 7],\n",
              "       [5, 0],\n",
              "       [5, 5],\n",
              "       [6, 2],\n",
              "       [6, 6],\n",
              "       [6, 9],\n",
              "       [7, 7],\n",
              "       [9, 1],\n",
              "       [9, 2]])"
            ]
          },
          "metadata": {},
          "execution_count": 6
        }
      ]
    },
    {
      "cell_type": "code",
      "source": [
        "np.where(array == 0)"
      ],
      "metadata": {
        "colab": {
          "base_uri": "https://localhost:8080/"
        },
        "id": "9y4m3jEBF_Lt",
        "outputId": "a1d73c49-b4aa-4eaa-de26-ede629df6512"
      },
      "execution_count": 7,
      "outputs": [
        {
          "output_type": "execute_result",
          "data": {
            "text/plain": [
              "(array([0, 1, 1, 1, 3, 3, 3, 3, 4, 4, 5, 5, 6, 6, 6, 7, 9, 9]),\n",
              " array([0, 0, 2, 3, 0, 1, 4, 9, 1, 7, 0, 5, 2, 6, 9, 7, 1, 2]))"
            ]
          },
          "metadata": {},
          "execution_count": 7
        }
      ]
    },
    {
      "cell_type": "code",
      "source": [
        "len(np.where(array == 0)[0])"
      ],
      "metadata": {
        "colab": {
          "base_uri": "https://localhost:8080/"
        },
        "id": "uNkrws6zIxc2",
        "outputId": "e62058be-9cdc-4051-b865-df52f006033b"
      },
      "execution_count": 8,
      "outputs": [
        {
          "output_type": "execute_result",
          "data": {
            "text/plain": [
              "18"
            ]
          },
          "metadata": {},
          "execution_count": 8
        }
      ]
    },
    {
      "cell_type": "code",
      "source": [
        "stones_row, stones_col = np.where(array == 0)[0], np.where(array == 0)[1]\n"
      ],
      "metadata": {
        "id": "mF5WYBv8GKnb"
      },
      "execution_count": 9,
      "outputs": []
    },
    {
      "cell_type": "code",
      "source": [
        "array"
      ],
      "metadata": {
        "colab": {
          "base_uri": "https://localhost:8080/"
        },
        "id": "juH-Q3YEGOXW",
        "outputId": "102632e6-0a62-4b78-e766-ad2cd072db4c"
      },
      "execution_count": 10,
      "outputs": [
        {
          "output_type": "execute_result",
          "data": {
            "text/plain": [
              "array([[0, 1, 1, 1, 1, 8, 1, 1, 1, 1],\n",
              "       [0, 1, 0, 0, 8, 1, 1, 1, 1, 8],\n",
              "       [1, 1, 1, 1, 1, 8, 8, 1, 1, 1],\n",
              "       [0, 0, 1, 8, 0, 1, 1, 1, 1, 0],\n",
              "       [1, 0, 1, 1, 1, 1, 1, 0, 8, 1],\n",
              "       [0, 1, 8, 1, 1, 0, 1, 8, 1, 8],\n",
              "       [1, 1, 0, 1, 1, 8, 0, 1, 1, 0],\n",
              "       [1, 1, 1, 1, 1, 1, 1, 0, 1, 1],\n",
              "       [8, 1, 1, 1, 1, 8, 8, 8, 1, 1],\n",
              "       [8, 0, 0, 1, 1, 8, 1, 1, 1, 1]])"
            ]
          },
          "metadata": {},
          "execution_count": 10
        }
      ]
    },
    {
      "cell_type": "code",
      "source": [
        "def tilt(array):\n",
        "  # find all indices of stones - 0\n",
        "  stones_row, stones_col = np.where(array == 0)[0], np.where(array == 0)[1]\n",
        "  for i in range(len(stones_col)):\n",
        "    col_num = stones_col[i]\n",
        "    row_num = stones_row[i]\n",
        "    # roll the stone\n",
        "    j = row_num - 1\n",
        "    while (j >= 0) and (array[j, col_num] == 1):\n",
        "      array[j+1, col_num] = 1\n",
        "      array[j, col_num] = 0\n",
        "      j = j-1\n",
        "  return array\n",
        "\n",
        "\n",
        "\n"
      ],
      "metadata": {
        "id": "6f7VGUn_CymW"
      },
      "execution_count": 11,
      "outputs": []
    },
    {
      "cell_type": "code",
      "source": [
        "array"
      ],
      "metadata": {
        "colab": {
          "base_uri": "https://localhost:8080/"
        },
        "id": "ECQh8Su9HW3M",
        "outputId": "63194b8a-aac1-43bb-9fff-5613a783a7b2"
      },
      "execution_count": 12,
      "outputs": [
        {
          "output_type": "execute_result",
          "data": {
            "text/plain": [
              "array([[0, 1, 1, 1, 1, 8, 1, 1, 1, 1],\n",
              "       [0, 1, 0, 0, 8, 1, 1, 1, 1, 8],\n",
              "       [1, 1, 1, 1, 1, 8, 8, 1, 1, 1],\n",
              "       [0, 0, 1, 8, 0, 1, 1, 1, 1, 0],\n",
              "       [1, 0, 1, 1, 1, 1, 1, 0, 8, 1],\n",
              "       [0, 1, 8, 1, 1, 0, 1, 8, 1, 8],\n",
              "       [1, 1, 0, 1, 1, 8, 0, 1, 1, 0],\n",
              "       [1, 1, 1, 1, 1, 1, 1, 0, 1, 1],\n",
              "       [8, 1, 1, 1, 1, 8, 8, 8, 1, 1],\n",
              "       [8, 0, 0, 1, 1, 8, 1, 1, 1, 1]])"
            ]
          },
          "metadata": {},
          "execution_count": 12
        }
      ]
    },
    {
      "cell_type": "code",
      "source": [
        "tilt(array)"
      ],
      "metadata": {
        "colab": {
          "base_uri": "https://localhost:8080/"
        },
        "id": "8X5gtgYqHTk0",
        "outputId": "d9f33ca3-cc33-4663-8618-c6c438383abc"
      },
      "execution_count": 13,
      "outputs": [
        {
          "output_type": "execute_result",
          "data": {
            "text/plain": [
              "array([[0, 0, 0, 0, 1, 8, 1, 0, 1, 1],\n",
              "       [0, 0, 1, 1, 8, 1, 1, 1, 1, 8],\n",
              "       [0, 0, 1, 1, 0, 8, 8, 1, 1, 0],\n",
              "       [0, 1, 1, 8, 1, 0, 0, 1, 1, 1],\n",
              "       [1, 1, 1, 1, 1, 1, 1, 1, 8, 1],\n",
              "       [1, 1, 8, 1, 1, 1, 1, 8, 1, 8],\n",
              "       [1, 1, 0, 1, 1, 8, 1, 0, 1, 0],\n",
              "       [1, 1, 0, 1, 1, 1, 1, 1, 1, 1],\n",
              "       [8, 1, 1, 1, 1, 8, 8, 8, 1, 1],\n",
              "       [8, 1, 1, 1, 1, 8, 1, 1, 1, 1]])"
            ]
          },
          "metadata": {},
          "execution_count": 13
        }
      ]
    },
    {
      "cell_type": "code",
      "source": [
        "(tilt(array) == out).all()"
      ],
      "metadata": {
        "colab": {
          "base_uri": "https://localhost:8080/"
        },
        "id": "Cm1v1tyRHUtv",
        "outputId": "4c908b72-67d0-4490-dda9-ffcc3ffc33cd"
      },
      "execution_count": 14,
      "outputs": [
        {
          "output_type": "execute_result",
          "data": {
            "text/plain": [
              "True"
            ]
          },
          "metadata": {},
          "execution_count": 14
        }
      ]
    },
    {
      "cell_type": "code",
      "source": [
        "def get_support(array):\n",
        "  result = 0\n",
        "  n = array.shape[1]\n",
        "  stones_row = np.where(array == 0)[0]\n",
        "  for i in stones_row:\n",
        "    result += n - i\n",
        "  return result\n",
        "\n"
      ],
      "metadata": {
        "id": "4KW_9wwQH9Ke"
      },
      "execution_count": 15,
      "outputs": []
    },
    {
      "cell_type": "code",
      "source": [
        "get_support(out)"
      ],
      "metadata": {
        "colab": {
          "base_uri": "https://localhost:8080/"
        },
        "id": "CB1jKKZjJ16s",
        "outputId": "19f14370-7217-41ee-c902-5b71ae035770"
      },
      "execution_count": 16,
      "outputs": [
        {
          "output_type": "execute_result",
          "data": {
            "text/plain": [
              "136"
            ]
          },
          "metadata": {},
          "execution_count": 16
        }
      ]
    },
    {
      "cell_type": "code",
      "source": [
        "def get_answer(input):\n",
        "  input = replace(input)\n",
        "  array = string_to_array(input)\n",
        "  array = tilt(array)\n",
        "  result = get_support(array)\n",
        "  return result\n"
      ],
      "metadata": {
        "id": "Se5ZJZIzJ3a7"
      },
      "execution_count": 17,
      "outputs": []
    },
    {
      "cell_type": "code",
      "source": [
        "get_answer"
      ],
      "metadata": {
        "colab": {
          "base_uri": "https://localhost:8080/"
        },
        "id": "0_gXCs5fKOys",
        "outputId": "629be949-af32-4aee-e36a-1480183c9ef0"
      },
      "execution_count": 18,
      "outputs": [
        {
          "output_type": "execute_result",
          "data": {
            "text/plain": [
              "<function __main__.get_answer(input)>"
            ]
          },
          "metadata": {},
          "execution_count": 18
        }
      ]
    },
    {
      "cell_type": "markdown",
      "source": [
        "## input"
      ],
      "metadata": {
        "id": "yhkhdA6JKQx9"
      }
    },
    {
      "cell_type": "code",
      "source": [
        "input = \"\"\"...###.#OO..#.O......#...#...O..#.....#...O#..O#........O.#O#O..O.....O.......#O.............O#.O###\n",
        "O.OOO..##O....#O.O.OO#......O...#O.........O....O..OO....#OOO.#..#..........O.O...##...#........O..#\n",
        ".#..O..O.#.....O...O.....#O.OOOO..O.#.O#OO.........O.#.O#O.O.#...O#..........OOO.#...#..O#..####O.OO\n",
        ".#..O....#.#..O.....O..O......O......O.O.O.#..O..#.OO.O.OOO..O#.O.##...OO.#.#.O..#...####O..#..#O...\n",
        ".##.O......#.OO.O.O...O.....##O.#.#.......##.O....O...O.O.####...#.....O#.O....#O.#..O......O.......\n",
        "O.###.#.#.O.O........#O.#.#..O#.#.OO....#O....O..##.#O.#.O.###.#..#..#.#.O....#..O......OO.#OO#...O#\n",
        ".....O..O#..O.O...O....#O#.O.#O...O##OO.O.#O....#.#.....#..O#...#..##....#.OOO..#O.....#..#O#OO.O...\n",
        "#............O#O.#.#.....O.O..OO....#....#..OO#.#O.OOO..#O...O#.....#.O....O.O..#....O..#...#OO#....\n",
        "..#.#O#..OO.O...##..#......#OO.....#.#.#.....#.O.....O.......#.##.......#O..OOO...........O.....O.O.\n",
        "......O#O......OO#..O.#O..O..#....O..O.........O...#.#.##.O....O..O..O..O#.O.O.OOOOO....O#.O.......#\n",
        "O##...O#...#..#.O.....#.O.###.O......#..#..O.#.O..........O..#.O.......#O......#.O.##....#.#.#...#..\n",
        "#..#.O..#..........#.O.#.O....#O#...OOOO......#...#.O.....O.OO.O....#.......O.O....O.O#.#O.###O.OO.#\n",
        "OO.O#.O.......#.OO##....#O.#.O...O..#O.OO.....O..O#..##.O#...O...O.#.#O..O..O#........OO#.....O#..##\n",
        "......O....O...#O##....OOO..O.O..O.......OO#O....###..O..##...O#.#.O.O..O.OO##....O.O#..O.#.#O#.#...\n",
        "..O....#.....O..O.OO#..#.##..........#OO...#..#.O...O.O#...#....O.O..O...O....OO...O..OO#O....O..#O.\n",
        "O....OO............O#.#........#..O.O...#OOO#.............#...OO......O#......O..O....OO...O..O...O.\n",
        "...O##O.#..........O.O..##....O.##....O...#......O.O...O..O.O..O.##.#..#..O.O#.O.##..O..OO...OO.....\n",
        "#.O#.#....#....O..O.O.O.###..O.O......O...OO#..........OO.....#O..#........#..#..O.#...##OO.#O#.#.#.\n",
        ".##OO#...#O....O.O.#.#O....O.#...OO.....O...O.#.....O.OO.O..OO.....O...#..#.....#..#.....#..OOO..O##\n",
        ".O#.........O.#..O.O.....O#.O##.##......OO.O.#......#...O##.O..#.....O...................#...O..O.#.\n",
        "..###...#O...O#..#......OO#...##.#.O....#.##OO.....O..O......O#.O....O.#..O#.O#O.#.#O..##.O...O..O.#\n",
        ".........#O...#..O.##.OO.....#...#.....O.O.O....O..##.O.....##OOO..#..O.#....#.##..O..##.O..#...#.#O\n",
        ".O..#.#.O#..#OOOO#...#.O..#O#....OO....O..O..#...O..#...#........#O.O...#....O.#...#..#....O..OOOO.O\n",
        "....#.#O#.O.O.O.OO.#....OO.....O.#....#...#..........#.##...##.OO#..OO.....O.....O#..O.#.....OO..#..\n",
        ".....OOOOO...O.........#.#....#..OO##.##.....#O....O..##..O.......#.....#.O.....#..O..OO.........O..\n",
        "...#.#.O###..#...O....OO....O.#.O.....##OO.O#..#.##....O.....OO##...O#OO..O.OO...O.OO..O#..O#.O..#.#\n",
        "..OOO.OO...##O.O.O#.O...O..O#..OOO...##.#..#.#.#...O.#O#...O#O.OOO.O.OO.O..#.OOOO#.........#..OO...O\n",
        "O...O#.O.OO#.OO.##.....#....#...#.........###.O.#.........O......#OO..O...OO.#O..#..#..O..O..##....#\n",
        "O.OOO#....O..O#O....O...O.#......##O...OO..O.............#.#....O#..#O.#OO.O...OO...OOO...O.O.....O.\n",
        "..#..O.OOO.....O#....#.#..O.......O...#.......#.OO..O.....#.#.#..O....#.#...O.O....O.#.......#.O##..\n",
        ".#..O.....#.#..#.#.#..OO.O...O........OO#.O..O..#..O#.##O..#....#....OO.....#..#O.........#.O..O.O.O\n",
        "...O.##OO.#.......O...O.O.#.O.O..#.O...O.O..OO..O..#..OO..##....##.#.....#.O.#..........O.#.OOO#O...\n",
        "...O..O....##...#...O#.O....O.O...#OO..O.#OO#........#O...OO.#..OO.#O.O..#....O#.O....O#......O#...#\n",
        "..OO#O.O...#..#.#.......O.O...##....O..#.##..#...#...O...#.O#O.O....O......#....#...O..##..#O..O....\n",
        ".O...##O.#O.....O........O...O#....##......##....O.....##.....##......O....O..#..#O.#.O.OO#O#O....##\n",
        ".........#O.O.O.OO..#.O#.##.....#.#O.O..O#.O........O....#O#.##O.#.O....#..OO.O.#...OO.#.O.##O...O##\n",
        "..O##O.O......#O.O.#..O.#.........O...#..#..#..##OO....O..OO.#.#...OO...#O..#...O.###...O#.#......O.\n",
        "......O..#O....O##...O##..........O...O....O........O..#OOO...OO..#.....##O.#.O..#....OO....O...#O..\n",
        "O..#.O..#.O..OOO..O.O.#.O...#O..#.O..#O......O.OO..O.#..O..##.....##....O#OOO..#.#O...O##...OO.#O#.O\n",
        "O##.O...O.O.....O.#O..O..#.....#O.#.....###..OOO.OO#...#.O..O...........O.....O..#...O.#...#..O....O\n",
        "...O.OO.....#O..O..#O..#O....OO....O....#O..#OO...O.#...O..#....#....#..OO.O.##.O#O...O.#O...O#.....\n",
        ".....#...OO.........##OO.#.#........#..O..O.#.#.OO.#..#..#....#.O#..........#..O.O...O.#OO.....##...\n",
        "#...#.....OO.....OOOO...#..#O.#..##.#..#..O.O##.O#.O#.O.O...#........#...O#......O.O#O..#..#..O...#.\n",
        ".....O..#.OO.#O.O...#...#..#.......O#.##..OOOO.........OO.O.#O#...OO.#...O....###O..OO#.O.....#.##.O\n",
        "#O..O#O.#..O#.O.O.O...O...OO...#.##....O#.......OO.O...#.....###.......O..#.O..O...OO#.O.#O.O.O.O.O.\n",
        "OO.....O.............#.O...OO..##O.O#.#O.#....O..........O..O#.........#.........O#.#....#O#..#..##O\n",
        "#..#..#........O.OO....O.....O..#O..O#.#O#O...#.##O..O...O.#O.#OOOO#.OO.#..OO##..#O.#.O.O...O..O#...\n",
        "...#........O...O.O..O.O#.....#....O.#.#OO.#...#..O#O.##..#.##...O#.#.....O..O.....#..O#.....O......\n",
        "..O.O.O###..#..O.#..#........O..O#..##O#....#...#.....O.......OO...O....##......#.O..O..O.O.O.O..#O.\n",
        "..O..O..OOO.O##..O..O#..OO###.#....O..O...##..OOO...O.......#..#..OO..O...OO#.O.....O.O..O.OO.#....O\n",
        "O....O...#.O#O#....#.O....##...O.........O...#.#.#O.OO..O#....O.##.....#.#..#..#....#.#O..O.O.#..O..\n",
        "O................O#O.O......##..#O...O....O#.O..#....O......O.#..O....O.#...O.....O##.#.O....OOO.#.#\n",
        "...O#....#..O.O........O#.O#.#O.#.....#....O#....#..#......O.....#.....O#O..O..OO.#.#OOO#O.O.O#.....\n",
        ".#.#O..##.O.O.O#...O...#...#....O..OO..O..#..#....###.O#.OO.O....O....OOO...O....OOO#..#..O.....#.OO\n",
        "...OOO..O.O.....O#.##O#.#.#.O..#O.....#O....O#O...O....O#.O#..O#.O..#.#.#O..O..O.#....O.....#O.....#\n",
        ".O#...#...O.....O..#.O.#.....O...O#..#.....O.O#O..O.....#.#.O..O..#.OO..#O...O......#OOO..#.O..O..#.\n",
        "O.#.OO.#.O#O#...O....#...###OO..OOO.#O..O.O..O........##...O#...#...O##OO.O#....O.#O.O..O#.O..O.#..O\n",
        "...#...O.O.###.O#O......#.OOOO...O...##..#O.#.O.#O.###.#O....#.OO....O......#..OO.O.#.O...O.O....O..\n",
        "...O#.O..#......#...O#...O......O..........O..#..##...O.O....OO.O.#..#....#...#.#O.....#O.#O.....#.#\n",
        "....#........O#.O..##OO.O....##.O...OOO.....OOO#O.#..#.#.....#.O.#......##..........OO.O#..O....#.O.\n",
        "#.....O...OOO..##....OO..OO.##......O.O#...#...O...O.....O.OO.O.......OOO....#...O.##.....OO..O.....\n",
        ".#.O....O..OO....O.O#O...#OO#.#....#....OOO....#O#...#...................O.#O#.O.#....O...#...#O.#.#\n",
        "O...##O.#.O#....O....#O#.#.#.OO#...............#.##O...#.OO....OO...O....O#O...#.O...O..O.#.O.#...O#\n",
        ".O.#........O.#..O.O#...#.....#.......#O..OO...O..O....#....O..#..O#.O....#OOO#O....#.#.#O......O.O#\n",
        ".O.OOO.#O.#......O..#...........#.O.##OOOO##O.OOO#.......#....#...O..#..#..O...##.O.O.....O..#.O....\n",
        ".O..#..O..OO.#O.#O.OOO...#....#.#.O.#....OO...O....O..##...O#####O....#......O.#.#...O.#O.#O....O..O\n",
        "O..#OO#....O.....O..#O..O....#O.#OOO.#..#.O#.#.O....O.#...O....O.#.O..#O.OO....#.O.#..#OO...O.O.O#.O\n",
        "....#.#OO.....O...OO.#O.OO......#..###O#.#.........#O...#..O#..O.OO#OO#O.O..O#..#.#..O#.##...OOO....\n",
        "............OOO.O..#OO..O#......#..O...#....#O.....#O.....O.....OO#..OO#..O..#..O...O.O..#.##..#.#..\n",
        "..#.O.#.O.#.OO#...O.O.#O#O...OO.O..#O....O.OOO.#O.#.#.###.O...OO...........O......O..O.OO.O..#....O.\n",
        "......O.#O#..................OOO..##.O#.....O.O...#.O#....OOO.#.....O.#O...O.#OO.#..OOO.............\n",
        "O...O................O.....OO.O.#...#..OO....O.OO.O##O.....O...O..#....O...OOO#O......O........#O...\n",
        ".#O..###.O.##O......#.....#....O....#O..#......#.#O#O..O...O#.......#O....##..##OO.O.O#...OO.O##.O..\n",
        ".#..#.......O.....#O........O.#..O....O#...........O...#....O.#O#....O..#..OO..O##....OO...#.O....OO\n",
        "...O#.......OO#....#...O....O..#...##OO..O#..#O#.O.O.OO.OO....O#..##...#.##O..##OO#...#..O..O...O..#\n",
        "..#..##....O.#.O...O.#.O...##........#...O####...#O...##OO.........O.O..OO#O#.###...O.O....O...OO...\n",
        "##.#OO.O....#.OOO..O.....O....#O...O...OOO...O#...#....O.#O...#...O.O.#.#OO..O..#.....#O.#....##..#.\n",
        "......O.O..#.#.O...#........#..O........#O......O....OO.....O.OOO##....O.O..#.#..O#.O.......#.O..#..\n",
        "O..##.....O........#.#..#.....O....#.##...O.#.....O.OO##...#OO.#...O..O##.OO.#..O..O#.O.O...O..#....\n",
        ".O....O.##O....O#OOO.#.O..#..O.O....O.O#..##..O#O#.OO....##.O#.....##.....O..##OOO..#.......O...#O..\n",
        "O...#.O........O.##.....O...OO##....##..O#...O#.O#.#..#.#O..#........#O..#O.O.O.O.O.O....##...#O#.##\n",
        ".........###OO..O..#....#...............#..O..O.O.###..#OO......O.OO...#...#....O..O..#.#...OO......\n",
        ".OO.O.O..O...O......O...#...#..O.#...O.#.......O..O.......#.OOO...O..#.....#............O.....OO....\n",
        "O.OOO.O.#..#...#O...O.#.O#...#.#.#.OO...##...OO.O.O.#......O....O..O..OO....O..##..#.OO...O.#O.#O.##\n",
        "O..#......#.........#...#O..O.........O#.###..OO.O..OO.O.O.....#O....#O..#...O..O..OO.....O#OOO...#O\n",
        "....OO...O.#........#......#O#....O.O#....#OO#O.#.O...#........#....OO.........OO.....O.#.......O...\n",
        "..##..#..O#.....#.O....O..OO##.O.....O#..#O..O...OO..O##.O.OO....O....##O.OOOO#....#...#..O.O...O...\n",
        "O...#..O##.O..OO.O.O..#.#O.......O#.O.#..O.O...O.OO..#..O.....OO..O....O#O.#.#..#.O..O.......O..#...\n",
        "OOO...O.#.O....#OO..O......#....O.....O..#O##...O.O.O..OOO#...#....##.OO..##...O....#..#O..##..#....\n",
        "##.O#O#........#....##.#.OO.#...O.#...##.O...#..##..O#.#.O.#OO....#.O..O..#O....#.....O.O...#O#O.O.O\n",
        "....#.#O.O#O.OO...O..O#......#.#.O..O..OOO.OOOO...#O..#O..O..O.........O.#....O.#.........##O.....O.\n",
        "O...#..#O#OO....O#OO#...O..#..#.#.#...O...#...#.....#.#..............O.O...#.O...OO.#..#..........O.\n",
        "..O.....#OOOO.O.#...O#...#...#..O....O##.#.#..OOOO#OO...O......O..#O..#.O.O..#.#O...O.O.O#.#OOO..OO#\n",
        "...O......O........##O..#...........OO..#........OO#...#...#....#O........OOO#..O#.O..#..#.O.O...#O.\n",
        ".OO.#..###..#.O.O#.#...O#O.O.OO...O#....O#O#...#.O.O#.O..O.....##...#.#O.O#O.....#......O#O...##.OO.\n",
        ".O.##...#O...#.#...O.......#....OOO.....#.O....O..#..O#...O..O..O...O.O..O....#....##...OOO..O#O....\n",
        "#...#.#OO#.#O.OO#.#....#...O.O#...##.O#O....##..O..#......#.#....#OO#..#O....#O#..OO...O....OO..O...\n",
        ".OO#.......OO.....#.O...#O....#.....O........OOO.O.O.#.....O......#O#......##OO.#O..O#..........O...\n",
        "#.#O......O.O......#.#OO........#.O#...#.O.OO.#......O#.O.......O.O.O..#.O#.#.....O...OO#O......O.O.\n",
        "..O..O.O#.....OO......###.#........O#..#OO.OOO.#..O...#...#..O#.......O.#.##.#.............#O.......\"\"\""
      ],
      "metadata": {
        "id": "DLJE46PMKS1M"
      },
      "execution_count": 19,
      "outputs": []
    },
    {
      "cell_type": "markdown",
      "source": [
        "## get the answer"
      ],
      "metadata": {
        "id": "M8FnGDH2KVbA"
      }
    },
    {
      "cell_type": "code",
      "source": [],
      "metadata": {
        "id": "WykY3271KpvT"
      },
      "execution_count": 19,
      "outputs": []
    },
    {
      "cell_type": "code",
      "source": [
        "get_answer(input)"
      ],
      "metadata": {
        "colab": {
          "base_uri": "https://localhost:8080/"
        },
        "id": "SzeST01dKWbD",
        "outputId": "03be0998-410b-4659-dc14-0d119e3c130c"
      },
      "execution_count": 20,
      "outputs": [
        {
          "output_type": "execute_result",
          "data": {
            "text/plain": [
              "108641"
            ]
          },
          "metadata": {},
          "execution_count": 20
        }
      ]
    },
    {
      "cell_type": "markdown",
      "source": [
        "# Task 2"
      ],
      "metadata": {
        "id": "4l0cAETQKpMU"
      }
    },
    {
      "cell_type": "code",
      "source": [
        "def tilt_north(array):\n",
        "  # find all indices of stones - 0\n",
        "  stones_row, stones_col = np.where(array == 0)[0], np.where(array == 0)[1]\n",
        "  for i in range(len(stones_col)):\n",
        "    col_num = stones_col[i]\n",
        "    row_num = stones_row[i]\n",
        "    # roll the stone\n",
        "    j = row_num - 1\n",
        "    while (j >= 0) and (array[j, col_num] == 1):\n",
        "      array[j+1, col_num] = 1\n",
        "      array[j, col_num] = 0\n",
        "      j = j-1\n",
        "  return array\n",
        "\n",
        "def tilt_south(array):\n",
        "  # upside down\n",
        "  array = np.flipud(array)\n",
        "  # do the north tilt\n",
        "  array = tilt_north(array)\n",
        "  # upside down again\n",
        "  array = np.flipud(array)\n",
        "  return array\n",
        "\n",
        "def tilt_west(array):\n",
        "  # find all indices of stones - 0\n",
        "  stones_row, stones_col = np.where(array == 0)[0], np.where(array == 0)[1]\n",
        "  for i in range(len(stones_col)):\n",
        "    col_num = stones_col[i]\n",
        "    row_num = stones_row[i]\n",
        "    # roll the stone\n",
        "    j = col_num - 1\n",
        "    while (j >= 0) and (array[row_num, j] == 1):\n",
        "      array[row_num, j+1] = 1\n",
        "      array[row_num, j] = 0\n",
        "      j = j-1\n",
        "  return array\n",
        "\n",
        "def tilt_east(array):\n",
        "  # left to right\n",
        "  array = np.fliplr(array)\n",
        "  # do the west tilt\n",
        "  array = tilt_west(array)\n",
        "  # left to right again\n",
        "  array = np.fliplr(array)\n",
        "  return array\n",
        "\n",
        "def spin(array):\n",
        "  array = tilt_north(array)\n",
        "  array = tilt_west(array)\n",
        "  array = tilt_south(array)\n",
        "  array = tilt_east(array)\n",
        "  return array\n",
        "\n",
        "def spin_n(array, n):\n",
        "  for i in range(n):\n",
        "    # if i % 10000 == 0:\n",
        "    #   print(i)\n",
        "    array = spin(array)\n",
        "    print(get_support(array))\n",
        "  return array\n",
        "\n",
        "def spin_n_and_get_load(array, n):\n",
        "  array = spin_n(array, n)\n",
        "  result = get_support(array)\n",
        "  return result\n"
      ],
      "metadata": {
        "id": "vb6lqsVdKq_G"
      },
      "execution_count": 38,
      "outputs": []
    },
    {
      "cell_type": "code",
      "source": [
        "def spin_n_and_get_load_every_time(input, n):\n",
        "  input = replace(input)\n",
        "  array = string_to_array(input)\n",
        "  load = []\n",
        "  for i in range(n):\n",
        "    array = spin(array)\n",
        "    load.append(get_support(array))\n",
        "  return load"
      ],
      "metadata": {
        "id": "ZRC3LmQwfSq5"
      },
      "execution_count": 40,
      "outputs": []
    },
    {
      "cell_type": "code",
      "source": [
        "loads_500 = spin_n_and_get_load_every_time(test_01, 500)"
      ],
      "metadata": {
        "id": "GsIyGulXfibB"
      },
      "execution_count": 41,
      "outputs": []
    },
    {
      "cell_type": "code",
      "source": [
        "plt.plot(loads_500)"
      ],
      "metadata": {
        "colab": {
          "base_uri": "https://localhost:8080/",
          "height": 447
        },
        "id": "rs7TYlLqfn1P",
        "outputId": "87f3989e-5dbe-4f15-fd05-2d07a90129db"
      },
      "execution_count": 42,
      "outputs": [
        {
          "output_type": "execute_result",
          "data": {
            "text/plain": [
              "[<matplotlib.lines.Line2D at 0x7f5540f6d180>]"
            ]
          },
          "metadata": {},
          "execution_count": 42
        },
        {
          "output_type": "display_data",
          "data": {
            "text/plain": [
              "<Figure size 640x480 with 1 Axes>"
            ],
            "image/png": "[encoded data removed]"
          },
          "metadata": {}
        }
      ]
    },
    {
      "cell_type": "markdown",
      "source": [
        "Looks like the cycle length is 7 in this case!"
      ],
      "metadata": {
        "id": "MDPEvch_gbjN"
      }
    },
    {
      "cell_type": "code",
      "source": [
        "# plt.plot(loads_500[100:120])\n",
        "plt.scatter(np.arange(0,20), loads_500[100:120])"
      ],
      "metadata": {
        "colab": {
          "base_uri": "https://localhost:8080/",
          "height": 447
        },
        "id": "pzEeSv_DgEtX",
        "outputId": "14cfd5da-e2a8-4d52-9a13-fb3254c524c9"
      },
      "execution_count": 46,
      "outputs": [
        {
          "output_type": "execute_result",
          "data": {
            "text/plain": [
              "<matplotlib.collections.PathCollection at 0x7f5540b1ad70>"
            ]
          },
          "metadata": {},
          "execution_count": 46
        },
        {
          "output_type": "display_data",
          "data": {
            "text/plain": [
              "<Figure size 640x480 with 1 Axes>"
            ],
            "image/png": "[encoded data removed]"
          },
          "metadata": {}
        }
      ]
    },
    {
      "cell_type": "code",
      "source": [
        "plt.scatter(np.arange(0,20), loads_500[0:20])"
      ],
      "metadata": {
        "colab": {
          "base_uri": "https://localhost:8080/",
          "height": 447
        },
        "id": "4dTPys3mgqSN",
        "outputId": "64e9e86e-3b40-480b-fabb-90f641780d19"
      },
      "execution_count": 48,
      "outputs": [
        {
          "output_type": "execute_result",
          "data": {
            "text/plain": [
              "<matplotlib.collections.PathCollection at 0x7f55407057b0>"
            ]
          },
          "metadata": {},
          "execution_count": 48
        },
        {
          "output_type": "display_data",
          "data": {
            "text/plain": [
              "<Figure size 640x480 with 1 Axes>"
            ],
            "image/png": "[encoded data removed]"
          },
          "metadata": {}
        }
      ]
    },
    {
      "cell_type": "markdown",
      "source": [
        "starts cycling at t = 2"
      ],
      "metadata": {
        "id": "aOBt1GcIg3FR"
      }
    },
    {
      "cell_type": "code",
      "source": [
        "cycle = loads_500[4:(4+7)]\n",
        "print(cycle)\n",
        "n = 1000000000\n",
        "start = 4\n",
        "div = int((n-start) / 7)\n",
        "print(n - start - div * 7)\n",
        "print(cycle[n - start - div * 7])\n"
      ],
      "metadata": {
        "colab": {
          "base_uri": "https://localhost:8080/"
        },
        "id": "nasE71q5g9ti",
        "outputId": "18ad0e7d-8958-41fb-c620-74c5352ee02f"
      },
      "execution_count": 62,
      "outputs": [
        {
          "output_type": "stream",
          "name": "stdout",
          "text": [
            "[65, 64, 65, 63, 68, 69, 69]\n",
            "2\n",
            "65\n"
          ]
        }
      ]
    },
    {
      "cell_type": "code",
      "source": [
        "cycle = loads_500[4:(4+7)]\n",
        "print(cycle)\n",
        "n = 1000000000\n",
        "start = 4\n",
        "div = (n-start) % 7\n",
        "print(div)\n",
        "print(cycle[div-1])\n",
        "# print(n - start - div * 7)\n",
        "# print(cycle[n - start - div * 7])\n"
      ],
      "metadata": {
        "colab": {
          "base_uri": "https://localhost:8080/"
        },
        "id": "MXekdEsBinLH",
        "outputId": "c8a88b14-62a6-4d6e-ef02-4ea9b89a6385"
      },
      "execution_count": 77,
      "outputs": [
        {
          "output_type": "stream",
          "name": "stdout",
          "text": [
            "[97488, 97052, 96573, 96203, 95798, 95467, 95158]\n",
            "2\n",
            "97052\n"
          ]
        }
      ]
    },
    {
      "cell_type": "markdown",
      "source": [
        "Now let's try the big input"
      ],
      "metadata": {
        "id": "MPeDdY4MjGfQ"
      }
    },
    {
      "cell_type": "code",
      "source": [
        "loads_500 = spin_n_and_get_load_every_time(input, 500)"
      ],
      "metadata": {
        "id": "d6zlqyR9hXan"
      },
      "execution_count": 69,
      "outputs": []
    },
    {
      "cell_type": "code",
      "source": [
        "plt.plot(loads_500)"
      ],
      "metadata": {
        "colab": {
          "base_uri": "https://localhost:8080/",
          "height": 447
        },
        "id": "BmjN2ME6jK7c",
        "outputId": "757d5566-2340-4c09-fa92-a3c07cccae01"
      },
      "execution_count": 70,
      "outputs": [
        {
          "output_type": "execute_result",
          "data": {
            "text/plain": [
              "[<matplotlib.lines.Line2D at 0x7f5520d1c2b0>]"
            ]
          },
          "metadata": {},
          "execution_count": 70
        },
        {
          "output_type": "display_data",
          "data": {
            "text/plain": [
              "<Figure size 640x480 with 1 Axes>"
            ],
            "image/png": "[encoded data removed]"
          },
          "metadata": {}
        }
      ]
    },
    {
      "cell_type": "code",
      "source": [
        "plt.plot(loads_500[200:230])\n",
        "plt.scatter(np.arange(0,30), loads_500[200:230])"
      ],
      "metadata": {
        "colab": {
          "base_uri": "https://localhost:8080/",
          "height": 447
        },
        "id": "F9sGKzerjYgM",
        "outputId": "8c541022-3066-4704-b13a-89f550906992"
      },
      "execution_count": 74,
      "outputs": [
        {
          "output_type": "execute_result",
          "data": {
            "text/plain": [
              "<matplotlib.collections.PathCollection at 0x7f5520997c40>"
            ]
          },
          "metadata": {},
          "execution_count": 74
        },
        {
          "output_type": "display_data",
          "data": {
            "text/plain": [
              "<Figure size 640x480 with 1 Axes>"
            ],
            "image/png": "[encoded data removed]"
          },
          "metadata": {}
        }
      ]
    },
    {
      "cell_type": "markdown",
      "source": [
        "So it seems now the cycle is 18"
      ],
      "metadata": {
        "id": "u04px-gbjpW7"
      }
    },
    {
      "cell_type": "code",
      "source": [
        "plt.plot(loads_500[0:250])\n",
        "# plt.scatter(np.arange(0,30), loads_500[200:230])"
      ],
      "metadata": {
        "colab": {
          "base_uri": "https://localhost:8080/",
          "height": 447
        },
        "id": "weDjEJvzj5-8",
        "outputId": "c21d28bf-02d8-47e3-e31a-cbb610cf139e"
      },
      "execution_count": 76,
      "outputs": [
        {
          "output_type": "execute_result",
          "data": {
            "text/plain": [
              "[<matplotlib.lines.Line2D at 0x7f55208b3a60>]"
            ]
          },
          "metadata": {},
          "execution_count": 76
        },
        {
          "output_type": "display_data",
          "data": {
            "text/plain": [
              "<Figure size 640x480 with 1 Axes>"
            ],
            "image/png": "[encoded data removed]"
          },
          "metadata": {}
        }
      ]
    },
    {
      "cell_type": "code",
      "source": [
        "cycle = loads_500[200:(200+18)]\n",
        "print(cycle)\n",
        "n = 1000000000\n",
        "start = 200\n",
        "div = (n-start) % 18\n",
        "print(div)\n",
        "print(cycle[div-1])\n",
        "# print(n - start - div * 7)\n",
        "# print(cycle[n - start - div * 7])\n"
      ],
      "metadata": {
        "colab": {
          "base_uri": "https://localhost:8080/"
        },
        "id": "nAALnHnqkGD-",
        "outputId": "b764bb84-6f21-4d86-b6c4-5ce82b0adea1"
      },
      "execution_count": 78,
      "outputs": [
        {
          "output_type": "stream",
          "name": "stdout",
          "text": [
            "[84191, 84210, 84220, 84237, 84244, 84276, 84294, 84328, 84341, 84341, 84332, 84332, 84314, 84299, 84268, 84239, 84206, 84202]\n",
            "8\n",
            "84328\n"
          ]
        }
      ]
    },
    {
      "cell_type": "markdown",
      "source": [
        "That's the right answer! Bit manual work this time but that's fine :)"
      ],
      "metadata": {
        "id": "y-uPn3kZkUvg"
      }
    },
    {
      "cell_type": "code",
      "source": [],
      "metadata": {
        "id": "6mUrYIXOMHGs"
      },
      "execution_count": null,
      "outputs": []
    }
  ]
}