{
  "nbformat": 4,
  "nbformat_minor": 0,
  "metadata": {
    "colab": {
      "provenance": [],
      "authorship_tag": "ABX9TyNCnM9GlYVs5lY1O8zt78WB",
      "include_colab_link": true
    },
    "kernelspec": {
      "name": "python3",
      "display_name": "Python 3"
    },
    "language_info": {
      "name": "python"
    }
  },
  "cells": [
    {
      "cell_type": "markdown",
      "metadata": {
        "id": "view-in-github",
        "colab_type": "text"
      },
      "source": [
        "<a href=\"https://colab.research.google.com/github/ihawryluk/advent-of-code-2023/blob/main/AoC_14.ipynb\" target=\"_parent\"><img src=\"https://colab.research.google.com/assets/colab-badge.svg\" alt=\"Open In Colab\"/></a>"
      ]
    },
    {
      "cell_type": "code",
      "source": [
        "import re\n",
        "import numpy as np"
      ],
      "metadata": {
        "id": "UErX2l85CfZy"
      },
      "execution_count": 5,
      "outputs": []
    },
    {
      "cell_type": "markdown",
      "source": [
        "# Task 1"
      ],
      "metadata": {
        "id": "a_IePtEPCR6I"
      }
    },
    {
      "cell_type": "code",
      "execution_count": 56,
      "metadata": {
        "id": "IeMU48j1COLx"
      },
      "outputs": [],
      "source": [
        "test_01 = \"\"\"O....#....\n",
        "O.OO#....#\n",
        ".....##...\n",
        "OO.#O....O\n",
        ".O.....O#.\n",
        "O.#..O.#.#\n",
        "..O..#O..O\n",
        ".......O..\n",
        "#....###..\n",
        "#OO..#....\"\"\"\n",
        "\n",
        "test_01_out = \"\"\"OOOO.#.O..\n",
        "OO..#....#\n",
        "OO..O##..O\n",
        "O..#.OO...\n",
        "........#.\n",
        "..#....#.#\n",
        "..O..#.O.O\n",
        "..O.......\n",
        "#....###..\n",
        "#....#....\"\"\""
      ]
    },
    {
      "cell_type": "code",
      "source": [
        "def replace(input):\n",
        "  input = input.replace('O', '0')\n",
        "  input = input.replace('#', '8')\n",
        "  input = input.replace('.', '1')\n",
        "  return input\n",
        "\n",
        "def string_to_array(input):\n",
        "  split_lines = input.split('\\n')\n",
        "  list_of_arrays = []\n",
        "  for line in split_lines:\n",
        "    line = re.sub(r'([0-9])(?!$)', r'\\1,', line)   # insert comma after every element\n",
        "    line = np.fromstring(line, dtype=int, sep=',')\n",
        "    list_of_arrays.append(line)\n",
        "  return np.stack(list_of_arrays)"
      ],
      "metadata": {
        "id": "WXXMmhcwCXIF"
      },
      "execution_count": 34,
      "outputs": []
    },
    {
      "cell_type": "code",
      "source": [
        "test_01_rep = replace(test_01)\n",
        "string_to_array(test_01_rep)"
      ],
      "metadata": {
        "colab": {
          "base_uri": "https://localhost:8080/"
        },
        "id": "oeNPhtt6EGed",
        "outputId": "f7ee73b1-acda-40cf-a112-9a842ee23543"
      },
      "execution_count": 35,
      "outputs": [
        {
          "output_type": "execute_result",
          "data": {
            "text/plain": [
              "array([[0, 1, 1, 1, 1, 8, 1, 1, 1, 1],\n",
              "       [0, 1, 0, 0, 8, 1, 1, 1, 1, 8],\n",
              "       [1, 1, 1, 1, 1, 8, 8, 1, 1, 1],\n",
              "       [0, 0, 1, 8, 0, 1, 1, 1, 1, 0],\n",
              "       [1, 0, 1, 1, 1, 1, 1, 0, 8, 1],\n",
              "       [0, 1, 8, 1, 1, 0, 1, 8, 1, 8],\n",
              "       [1, 1, 0, 1, 1, 8, 0, 1, 1, 0],\n",
              "       [1, 1, 1, 1, 1, 1, 1, 0, 1, 1],\n",
              "       [8, 1, 1, 1, 1, 8, 8, 8, 1, 1],\n",
              "       [8, 0, 0, 1, 1, 8, 1, 1, 1, 1]])"
            ]
          },
          "metadata": {},
          "execution_count": 35
        }
      ]
    },
    {
      "cell_type": "code",
      "source": [
        "array = string_to_array(test_01_rep)\n",
        "out = string_to_array(replace(test_01_out))"
      ],
      "metadata": {
        "id": "4fruxhazFmkT"
      },
      "execution_count": 57,
      "outputs": []
    },
    {
      "cell_type": "code",
      "source": [
        "stones = np.argwhere(array == 0)\n",
        "stones"
      ],
      "metadata": {
        "colab": {
          "base_uri": "https://localhost:8080/"
        },
        "id": "104e4o-MFoyt",
        "outputId": "2d02844f-c1e1-41b4-bb1f-38624a244621"
      },
      "execution_count": 39,
      "outputs": [
        {
          "output_type": "execute_result",
          "data": {
            "text/plain": [
              "array([[0, 0],\n",
              "       [1, 0],\n",
              "       [1, 2],\n",
              "       [1, 3],\n",
              "       [3, 0],\n",
              "       [3, 1],\n",
              "       [3, 4],\n",
              "       [3, 9],\n",
              "       [4, 1],\n",
              "       [4, 7],\n",
              "       [5, 0],\n",
              "       [5, 5],\n",
              "       [6, 2],\n",
              "       [6, 6],\n",
              "       [6, 9],\n",
              "       [7, 7],\n",
              "       [9, 1],\n",
              "       [9, 2]])"
            ]
          },
          "metadata": {},
          "execution_count": 39
        }
      ]
    },
    {
      "cell_type": "code",
      "source": [
        "np.where(array == 0)"
      ],
      "metadata": {
        "colab": {
          "base_uri": "https://localhost:8080/"
        },
        "id": "9y4m3jEBF_Lt",
        "outputId": "00ebb4ab-0668-4eeb-8f3b-942d6dd2d56b"
      },
      "execution_count": 40,
      "outputs": [
        {
          "output_type": "execute_result",
          "data": {
            "text/plain": [
              "(array([0, 1, 1, 1, 3, 3, 3, 3, 4, 4, 5, 5, 6, 6, 6, 7, 9, 9]),\n",
              " array([0, 0, 2, 3, 0, 1, 4, 9, 1, 7, 0, 5, 2, 6, 9, 7, 1, 2]))"
            ]
          },
          "metadata": {},
          "execution_count": 40
        }
      ]
    },
    {
      "cell_type": "code",
      "source": [
        "len(np.where(array == 0)[0])"
      ],
      "metadata": {
        "colab": {
          "base_uri": "https://localhost:8080/"
        },
        "id": "uNkrws6zIxc2",
        "outputId": "63c1d2ce-6eda-488a-e332-22311e6878db"
      },
      "execution_count": 62,
      "outputs": [
        {
          "output_type": "execute_result",
          "data": {
            "text/plain": [
              "18"
            ]
          },
          "metadata": {},
          "execution_count": 62
        }
      ]
    },
    {
      "cell_type": "code",
      "source": [
        "stones_row, stones_col = np.where(array == 0)[0], np.where(array == 0)[1]\n"
      ],
      "metadata": {
        "id": "mF5WYBv8GKnb"
      },
      "execution_count": 41,
      "outputs": []
    },
    {
      "cell_type": "code",
      "source": [
        "array"
      ],
      "metadata": {
        "colab": {
          "base_uri": "https://localhost:8080/"
        },
        "id": "juH-Q3YEGOXW",
        "outputId": "3214ad88-7370-4b43-f17e-ead6bdb3a95b"
      },
      "execution_count": 42,
      "outputs": [
        {
          "output_type": "execute_result",
          "data": {
            "text/plain": [
              "array([[0, 1, 1, 1, 1, 8, 1, 1, 1, 1],\n",
              "       [0, 1, 0, 0, 8, 1, 1, 1, 1, 8],\n",
              "       [1, 1, 1, 1, 1, 8, 8, 1, 1, 1],\n",
              "       [0, 0, 1, 8, 0, 1, 1, 1, 1, 0],\n",
              "       [1, 0, 1, 1, 1, 1, 1, 0, 8, 1],\n",
              "       [0, 1, 8, 1, 1, 0, 1, 8, 1, 8],\n",
              "       [1, 1, 0, 1, 1, 8, 0, 1, 1, 0],\n",
              "       [1, 1, 1, 1, 1, 1, 1, 0, 1, 1],\n",
              "       [8, 1, 1, 1, 1, 8, 8, 8, 1, 1],\n",
              "       [8, 0, 0, 1, 1, 8, 1, 1, 1, 1]])"
            ]
          },
          "metadata": {},
          "execution_count": 42
        }
      ]
    },
    {
      "cell_type": "code",
      "source": [
        "def tilt(array):\n",
        "  # find all indices of stones - 0\n",
        "  stones_row, stones_col = np.where(array == 0)[0], np.where(array == 0)[1]\n",
        "  for i in range(len(stones_col)):\n",
        "    col_num = stones_col[i]\n",
        "    row_num = stones_row[i]\n",
        "    # roll the stone\n",
        "    j = row_num - 1\n",
        "    while (j >= 0) and (array[j, col_num] == 1):\n",
        "      array[j+1, col_num] = 1\n",
        "      array[j, col_num] = 0\n",
        "      j = j-1\n",
        "  return array\n",
        "\n",
        "\n",
        "\n",
        ""
      ],
      "metadata": {
        "id": "6f7VGUn_CymW"
      },
      "execution_count": 80,
      "outputs": []
    },
    {
      "cell_type": "code",
      "source": [
        "array"
      ],
      "metadata": {
        "colab": {
          "base_uri": "https://localhost:8080/"
        },
        "id": "ECQh8Su9HW3M",
        "outputId": "ffe1e2e5-e3a4-49ec-84ed-148e36f09797"
      },
      "execution_count": 68,
      "outputs": [
        {
          "output_type": "execute_result",
          "data": {
            "text/plain": [
              "array([[0, 0, 0, 0, 1, 8, 1, 0, 1, 1],\n",
              "       [0, 0, 1, 1, 8, 1, 1, 1, 1, 8],\n",
              "       [0, 0, 1, 1, 0, 8, 8, 1, 1, 0],\n",
              "       [0, 1, 1, 8, 1, 0, 0, 1, 1, 1],\n",
              "       [1, 1, 1, 1, 1, 1, 1, 1, 8, 1],\n",
              "       [1, 1, 8, 1, 1, 1, 1, 8, 1, 8],\n",
              "       [1, 1, 0, 1, 1, 8, 1, 0, 1, 0],\n",
              "       [1, 1, 0, 1, 1, 1, 1, 1, 1, 1],\n",
              "       [8, 1, 1, 1, 1, 8, 8, 8, 1, 1],\n",
              "       [8, 1, 1, 1, 1, 8, 1, 1, 1, 1]])"
            ]
          },
          "metadata": {},
          "execution_count": 68
        }
      ]
    },
    {
      "cell_type": "code",
      "source": [
        "tilt(array)"
      ],
      "metadata": {
        "colab": {
          "base_uri": "https://localhost:8080/"
        },
        "id": "8X5gtgYqHTk0",
        "outputId": "8da9dd14-7be1-49cc-e7ad-beb07453b53e"
      },
      "execution_count": 69,
      "outputs": [
        {
          "output_type": "execute_result",
          "data": {
            "text/plain": [
              "array([[0, 0, 0, 0, 1, 8, 1, 0, 1, 1],\n",
              "       [0, 0, 1, 1, 8, 1, 1, 1, 1, 8],\n",
              "       [0, 0, 1, 1, 0, 8, 8, 1, 1, 0],\n",
              "       [0, 1, 1, 8, 1, 0, 0, 1, 1, 1],\n",
              "       [1, 1, 1, 1, 1, 1, 1, 1, 8, 1],\n",
              "       [1, 1, 8, 1, 1, 1, 1, 8, 1, 8],\n",
              "       [1, 1, 0, 1, 1, 8, 1, 0, 1, 0],\n",
              "       [1, 1, 0, 1, 1, 1, 1, 1, 1, 1],\n",
              "       [8, 1, 1, 1, 1, 8, 8, 8, 1, 1],\n",
              "       [8, 1, 1, 1, 1, 8, 1, 1, 1, 1]])"
            ]
          },
          "metadata": {},
          "execution_count": 69
        }
      ]
    },
    {
      "cell_type": "code",
      "source": [
        "(tilt(array) == out).all()"
      ],
      "metadata": {
        "colab": {
          "base_uri": "https://localhost:8080/"
        },
        "id": "Cm1v1tyRHUtv",
        "outputId": "c76d23af-3dd8-4664-e90b-3a5a9b2fa003"
      },
      "execution_count": 72,
      "outputs": [
        {
          "output_type": "execute_result",
          "data": {
            "text/plain": [
              "True"
            ]
          },
          "metadata": {},
          "execution_count": 72
        }
      ]
    },
    {
      "cell_type": "code",
      "source": [
        "def get_support(array):\n",
        "  result = 0\n",
        "  n = array.shape[1]\n",
        "  stones_row = np.where(array == 0)[0]\n",
        "  for i in stones_row:\n",
        "    result += n - i\n",
        "  return result\n",
        "\n"
      ],
      "metadata": {
        "id": "4KW_9wwQH9Ke"
      },
      "execution_count": 74,
      "outputs": []
    },
    {
      "cell_type": "code",
      "source": [
        "get_support(out)"
      ],
      "metadata": {
        "colab": {
          "base_uri": "https://localhost:8080/"
        },
        "id": "CB1jKKZjJ16s",
        "outputId": "d498b867-e181-4a5d-d6a1-19b61285d792"
      },
      "execution_count": 75,
      "outputs": [
        {
          "output_type": "execute_result",
          "data": {
            "text/plain": [
              "136"
            ]
          },
          "metadata": {},
          "execution_count": 75
        }
      ]
    },
    {
      "cell_type": "code",
      "source": [
        "def get_answer(input):\n",
        "  input = replace(input)\n",
        "  array = string_to_array(input)\n",
        "  array = tilt(array)\n",
        "  result = get_support(array)\n",
        "  return result\n"
      ],
      "metadata": {
        "id": "Se5ZJZIzJ3a7"
      },
      "execution_count": 76,
      "outputs": []
    },
    {
      "cell_type": "code",
      "source": [
        "get_answer"
      ],
      "metadata": {
        "colab": {
          "base_uri": "https://localhost:8080/"
        },
        "id": "0_gXCs5fKOys",
        "outputId": "70360d16-4a4c-4aed-e7f5-6beca1e8af89"
      },
      "execution_count": 77,
      "outputs": [
        {
          "output_type": "execute_result",
          "data": {
            "text/plain": [
              "136"
            ]
          },
          "metadata": {},
          "execution_count": 77
        }
      ]
    },
    {
      "cell_type": "markdown",
      "source": [
        "## input"
      ],
      "metadata": {
        "id": "yhkhdA6JKQx9"
      }
    },
    {
      "cell_type": "code",
      "source": [
        "input = \"\"\"...###.#OO..#.O......#...#...O..#.....#...O#..O#........O.#O#O..O.....O.......#O.............O#.O###\n",
        "O.OOO..##O....#O.O.OO#......O...#O.........O....O..OO....#OOO.#..#..........O.O...##...#........O..#\n",
        ".#..O..O.#.....O...O.....#O.OOOO..O.#.O#OO.........O.#.O#O.O.#...O#..........OOO.#...#..O#..####O.OO\n",
        ".#..O....#.#..O.....O..O......O......O.O.O.#..O..#.OO.O.OOO..O#.O.##...OO.#.#.O..#...####O..#..#O...\n",
        ".##.O......#.OO.O.O...O.....##O.#.#.......##.O....O...O.O.####...#.....O#.O....#O.#..O......O.......\n",
        "O.###.#.#.O.O........#O.#.#..O#.#.OO....#O....O..##.#O.#.O.###.#..#..#.#.O....#..O......OO.#OO#...O#\n",
        ".....O..O#..O.O...O....#O#.O.#O...O##OO.O.#O....#.#.....#..O#...#..##....#.OOO..#O.....#..#O#OO.O...\n",
        "#............O#O.#.#.....O.O..OO....#....#..OO#.#O.OOO..#O...O#.....#.O....O.O..#....O..#...#OO#....\n",
        "..#.#O#..OO.O...##..#......#OO.....#.#.#.....#.O.....O.......#.##.......#O..OOO...........O.....O.O.\n",
        "......O#O......OO#..O.#O..O..#....O..O.........O...#.#.##.O....O..O..O..O#.O.O.OOOOO....O#.O.......#\n",
        "O##...O#...#..#.O.....#.O.###.O......#..#..O.#.O..........O..#.O.......#O......#.O.##....#.#.#...#..\n",
        "#..#.O..#..........#.O.#.O....#O#...OOOO......#...#.O.....O.OO.O....#.......O.O....O.O#.#O.###O.OO.#\n",
        "OO.O#.O.......#.OO##....#O.#.O...O..#O.OO.....O..O#..##.O#...O...O.#.#O..O..O#........OO#.....O#..##\n",
        "......O....O...#O##....OOO..O.O..O.......OO#O....###..O..##...O#.#.O.O..O.OO##....O.O#..O.#.#O#.#...\n",
        "..O....#.....O..O.OO#..#.##..........#OO...#..#.O...O.O#...#....O.O..O...O....OO...O..OO#O....O..#O.\n",
        "O....OO............O#.#........#..O.O...#OOO#.............#...OO......O#......O..O....OO...O..O...O.\n",
        "...O##O.#..........O.O..##....O.##....O...#......O.O...O..O.O..O.##.#..#..O.O#.O.##..O..OO...OO.....\n",
        "#.O#.#....#....O..O.O.O.###..O.O......O...OO#..........OO.....#O..#........#..#..O.#...##OO.#O#.#.#.\n",
        ".##OO#...#O....O.O.#.#O....O.#...OO.....O...O.#.....O.OO.O..OO.....O...#..#.....#..#.....#..OOO..O##\n",
        ".O#.........O.#..O.O.....O#.O##.##......OO.O.#......#...O##.O..#.....O...................#...O..O.#.\n",
        "..###...#O...O#..#......OO#...##.#.O....#.##OO.....O..O......O#.O....O.#..O#.O#O.#.#O..##.O...O..O.#\n",
        ".........#O...#..O.##.OO.....#...#.....O.O.O....O..##.O.....##OOO..#..O.#....#.##..O..##.O..#...#.#O\n",
        ".O..#.#.O#..#OOOO#...#.O..#O#....OO....O..O..#...O..#...#........#O.O...#....O.#...#..#....O..OOOO.O\n",
        "....#.#O#.O.O.O.OO.#....OO.....O.#....#...#..........#.##...##.OO#..OO.....O.....O#..O.#.....OO..#..\n",
        ".....OOOOO...O.........#.#....#..OO##.##.....#O....O..##..O.......#.....#.O.....#..O..OO.........O..\n",
        "...#.#.O###..#...O....OO....O.#.O.....##OO.O#..#.##....O.....OO##...O#OO..O.OO...O.OO..O#..O#.O..#.#\n",
        "..OOO.OO...##O.O.O#.O...O..O#..OOO...##.#..#.#.#...O.#O#...O#O.OOO.O.OO.O..#.OOOO#.........#..OO...O\n",
        "O...O#.O.OO#.OO.##.....#....#...#.........###.O.#.........O......#OO..O...OO.#O..#..#..O..O..##....#\n",
        "O.OOO#....O..O#O....O...O.#......##O...OO..O.............#.#....O#..#O.#OO.O...OO...OOO...O.O.....O.\n",
        "..#..O.OOO.....O#....#.#..O.......O...#.......#.OO..O.....#.#.#..O....#.#...O.O....O.#.......#.O##..\n",
        ".#..O.....#.#..#.#.#..OO.O...O........OO#.O..O..#..O#.##O..#....#....OO.....#..#O.........#.O..O.O.O\n",
        "...O.##OO.#.......O...O.O.#.O.O..#.O...O.O..OO..O..#..OO..##....##.#.....#.O.#..........O.#.OOO#O...\n",
        "...O..O....##...#...O#.O....O.O...#OO..O.#OO#........#O...OO.#..OO.#O.O..#....O#.O....O#......O#...#\n",
        "..OO#O.O...#..#.#.......O.O...##....O..#.##..#...#...O...#.O#O.O....O......#....#...O..##..#O..O....\n",
        ".O...##O.#O.....O........O...O#....##......##....O.....##.....##......O....O..#..#O.#.O.OO#O#O....##\n",
        ".........#O.O.O.OO..#.O#.##.....#.#O.O..O#.O........O....#O#.##O.#.O....#..OO.O.#...OO.#.O.##O...O##\n",
        "..O##O.O......#O.O.#..O.#.........O...#..#..#..##OO....O..OO.#.#...OO...#O..#...O.###...O#.#......O.\n",
        "......O..#O....O##...O##..........O...O....O........O..#OOO...OO..#.....##O.#.O..#....OO....O...#O..\n",
        "O..#.O..#.O..OOO..O.O.#.O...#O..#.O..#O......O.OO..O.#..O..##.....##....O#OOO..#.#O...O##...OO.#O#.O\n",
        "O##.O...O.O.....O.#O..O..#.....#O.#.....###..OOO.OO#...#.O..O...........O.....O..#...O.#...#..O....O\n",
        "...O.OO.....#O..O..#O..#O....OO....O....#O..#OO...O.#...O..#....#....#..OO.O.##.O#O...O.#O...O#.....\n",
        ".....#...OO.........##OO.#.#........#..O..O.#.#.OO.#..#..#....#.O#..........#..O.O...O.#OO.....##...\n",
        "#...#.....OO.....OOOO...#..#O.#..##.#..#..O.O##.O#.O#.O.O...#........#...O#......O.O#O..#..#..O...#.\n",
        ".....O..#.OO.#O.O...#...#..#.......O#.##..OOOO.........OO.O.#O#...OO.#...O....###O..OO#.O.....#.##.O\n",
        "#O..O#O.#..O#.O.O.O...O...OO...#.##....O#.......OO.O...#.....###.......O..#.O..O...OO#.O.#O.O.O.O.O.\n",
        "OO.....O.............#.O...OO..##O.O#.#O.#....O..........O..O#.........#.........O#.#....#O#..#..##O\n",
        "#..#..#........O.OO....O.....O..#O..O#.#O#O...#.##O..O...O.#O.#OOOO#.OO.#..OO##..#O.#.O.O...O..O#...\n",
        "...#........O...O.O..O.O#.....#....O.#.#OO.#...#..O#O.##..#.##...O#.#.....O..O.....#..O#.....O......\n",
        "..O.O.O###..#..O.#..#........O..O#..##O#....#...#.....O.......OO...O....##......#.O..O..O.O.O.O..#O.\n",
        "..O..O..OOO.O##..O..O#..OO###.#....O..O...##..OOO...O.......#..#..OO..O...OO#.O.....O.O..O.OO.#....O\n",
        "O....O...#.O#O#....#.O....##...O.........O...#.#.#O.OO..O#....O.##.....#.#..#..#....#.#O..O.O.#..O..\n",
        "O................O#O.O......##..#O...O....O#.O..#....O......O.#..O....O.#...O.....O##.#.O....OOO.#.#\n",
        "...O#....#..O.O........O#.O#.#O.#.....#....O#....#..#......O.....#.....O#O..O..OO.#.#OOO#O.O.O#.....\n",
        ".#.#O..##.O.O.O#...O...#...#....O..OO..O..#..#....###.O#.OO.O....O....OOO...O....OOO#..#..O.....#.OO\n",
        "...OOO..O.O.....O#.##O#.#.#.O..#O.....#O....O#O...O....O#.O#..O#.O..#.#.#O..O..O.#....O.....#O.....#\n",
        ".O#...#...O.....O..#.O.#.....O...O#..#.....O.O#O..O.....#.#.O..O..#.OO..#O...O......#OOO..#.O..O..#.\n",
        "O.#.OO.#.O#O#...O....#...###OO..OOO.#O..O.O..O........##...O#...#...O##OO.O#....O.#O.O..O#.O..O.#..O\n",
        "...#...O.O.###.O#O......#.OOOO...O...##..#O.#.O.#O.###.#O....#.OO....O......#..OO.O.#.O...O.O....O..\n",
        "...O#.O..#......#...O#...O......O..........O..#..##...O.O....OO.O.#..#....#...#.#O.....#O.#O.....#.#\n",
        "....#........O#.O..##OO.O....##.O...OOO.....OOO#O.#..#.#.....#.O.#......##..........OO.O#..O....#.O.\n",
        "#.....O...OOO..##....OO..OO.##......O.O#...#...O...O.....O.OO.O.......OOO....#...O.##.....OO..O.....\n",
        ".#.O....O..OO....O.O#O...#OO#.#....#....OOO....#O#...#...................O.#O#.O.#....O...#...#O.#.#\n",
        "O...##O.#.O#....O....#O#.#.#.OO#...............#.##O...#.OO....OO...O....O#O...#.O...O..O.#.O.#...O#\n",
        ".O.#........O.#..O.O#...#.....#.......#O..OO...O..O....#....O..#..O#.O....#OOO#O....#.#.#O......O.O#\n",
        ".O.OOO.#O.#......O..#...........#.O.##OOOO##O.OOO#.......#....#...O..#..#..O...##.O.O.....O..#.O....\n",
        ".O..#..O..OO.#O.#O.OOO...#....#.#.O.#....OO...O....O..##...O#####O....#......O.#.#...O.#O.#O....O..O\n",
        "O..#OO#....O.....O..#O..O....#O.#OOO.#..#.O#.#.O....O.#...O....O.#.O..#O.OO....#.O.#..#OO...O.O.O#.O\n",
        "....#.#OO.....O...OO.#O.OO......#..###O#.#.........#O...#..O#..O.OO#OO#O.O..O#..#.#..O#.##...OOO....\n",
        "............OOO.O..#OO..O#......#..O...#....#O.....#O.....O.....OO#..OO#..O..#..O...O.O..#.##..#.#..\n",
        "..#.O.#.O.#.OO#...O.O.#O#O...OO.O..#O....O.OOO.#O.#.#.###.O...OO...........O......O..O.OO.O..#....O.\n",
        "......O.#O#..................OOO..##.O#.....O.O...#.O#....OOO.#.....O.#O...O.#OO.#..OOO.............\n",
        "O...O................O.....OO.O.#...#..OO....O.OO.O##O.....O...O..#....O...OOO#O......O........#O...\n",
        ".#O..###.O.##O......#.....#....O....#O..#......#.#O#O..O...O#.......#O....##..##OO.O.O#...OO.O##.O..\n",
        ".#..#.......O.....#O........O.#..O....O#...........O...#....O.#O#....O..#..OO..O##....OO...#.O....OO\n",
        "...O#.......OO#....#...O....O..#...##OO..O#..#O#.O.O.OO.OO....O#..##...#.##O..##OO#...#..O..O...O..#\n",
        "..#..##....O.#.O...O.#.O...##........#...O####...#O...##OO.........O.O..OO#O#.###...O.O....O...OO...\n",
        "##.#OO.O....#.OOO..O.....O....#O...O...OOO...O#...#....O.#O...#...O.O.#.#OO..O..#.....#O.#....##..#.\n",
        "......O.O..#.#.O...#........#..O........#O......O....OO.....O.OOO##....O.O..#.#..O#.O.......#.O..#..\n",
        "O..##.....O........#.#..#.....O....#.##...O.#.....O.OO##...#OO.#...O..O##.OO.#..O..O#.O.O...O..#....\n",
        ".O....O.##O....O#OOO.#.O..#..O.O....O.O#..##..O#O#.OO....##.O#.....##.....O..##OOO..#.......O...#O..\n",
        "O...#.O........O.##.....O...OO##....##..O#...O#.O#.#..#.#O..#........#O..#O.O.O.O.O.O....##...#O#.##\n",
        ".........###OO..O..#....#...............#..O..O.O.###..#OO......O.OO...#...#....O..O..#.#...OO......\n",
        ".OO.O.O..O...O......O...#...#..O.#...O.#.......O..O.......#.OOO...O..#.....#............O.....OO....\n",
        "O.OOO.O.#..#...#O...O.#.O#...#.#.#.OO...##...OO.O.O.#......O....O..O..OO....O..##..#.OO...O.#O.#O.##\n",
        "O..#......#.........#...#O..O.........O#.###..OO.O..OO.O.O.....#O....#O..#...O..O..OO.....O#OOO...#O\n",
        "....OO...O.#........#......#O#....O.O#....#OO#O.#.O...#........#....OO.........OO.....O.#.......O...\n",
        "..##..#..O#.....#.O....O..OO##.O.....O#..#O..O...OO..O##.O.OO....O....##O.OOOO#....#...#..O.O...O...\n",
        "O...#..O##.O..OO.O.O..#.#O.......O#.O.#..O.O...O.OO..#..O.....OO..O....O#O.#.#..#.O..O.......O..#...\n",
        "OOO...O.#.O....#OO..O......#....O.....O..#O##...O.O.O..OOO#...#....##.OO..##...O....#..#O..##..#....\n",
        "##.O#O#........#....##.#.OO.#...O.#...##.O...#..##..O#.#.O.#OO....#.O..O..#O....#.....O.O...#O#O.O.O\n",
        "....#.#O.O#O.OO...O..O#......#.#.O..O..OOO.OOOO...#O..#O..O..O.........O.#....O.#.........##O.....O.\n",
        "O...#..#O#OO....O#OO#...O..#..#.#.#...O...#...#.....#.#..............O.O...#.O...OO.#..#..........O.\n",
        "..O.....#OOOO.O.#...O#...#...#..O....O##.#.#..OOOO#OO...O......O..#O..#.O.O..#.#O...O.O.O#.#OOO..OO#\n",
        "...O......O........##O..#...........OO..#........OO#...#...#....#O........OOO#..O#.O..#..#.O.O...#O.\n",
        ".OO.#..###..#.O.O#.#...O#O.O.OO...O#....O#O#...#.O.O#.O..O.....##...#.#O.O#O.....#......O#O...##.OO.\n",
        ".O.##...#O...#.#...O.......#....OOO.....#.O....O..#..O#...O..O..O...O.O..O....#....##...OOO..O#O....\n",
        "#...#.#OO#.#O.OO#.#....#...O.O#...##.O#O....##..O..#......#.#....#OO#..#O....#O#..OO...O....OO..O...\n",
        ".OO#.......OO.....#.O...#O....#.....O........OOO.O.O.#.....O......#O#......##OO.#O..O#..........O...\n",
        "#.#O......O.O......#.#OO........#.O#...#.O.OO.#......O#.O.......O.O.O..#.O#.#.....O...OO#O......O.O.\n",
        "..O..O.O#.....OO......###.#........O#..#OO.OOO.#..O...#...#..O#.......O.#.##.#.............#O.......\"\"\""
      ],
      "metadata": {
        "id": "DLJE46PMKS1M"
      },
      "execution_count": 78,
      "outputs": []
    },
    {
      "cell_type": "markdown",
      "source": [
        "## get the answer"
      ],
      "metadata": {
        "id": "M8FnGDH2KVbA"
      }
    },
    {
      "cell_type": "code",
      "source": [],
      "metadata": {
        "id": "WykY3271KpvT"
      },
      "execution_count": null,
      "outputs": []
    },
    {
      "cell_type": "code",
      "source": [
        "get_answer(input)"
      ],
      "metadata": {
        "colab": {
          "base_uri": "https://localhost:8080/"
        },
        "id": "SzeST01dKWbD",
        "outputId": "b1a54d54-5d42-408d-a27e-b68feccab093"
      },
      "execution_count": 79,
      "outputs": [
        {
          "output_type": "execute_result",
          "data": {
            "text/plain": [
              "108641"
            ]
          },
          "metadata": {},
          "execution_count": 79
        }
      ]
    },
    {
      "cell_type": "markdown",
      "source": [
        "# Task 2"
      ],
      "metadata": {
        "id": "4l0cAETQKpMU"
      }
    },
    {
      "cell_type": "code",
      "source": [
        "def tilt_north(array):\n",
        "  # find all indices of stones - 0\n",
        "  stones_row, stones_col = np.where(array == 0)[0], np.where(array == 0)[1]\n",
        "  for i in range(len(stones_col)):\n",
        "    col_num = stones_col[i]\n",
        "    row_num = stones_row[i]\n",
        "    # roll the stone\n",
        "    j = row_num - 1\n",
        "    while (j >= 0) and (array[j, col_num] == 1):\n",
        "      array[j+1, col_num] = 1\n",
        "      array[j, col_num] = 0\n",
        "      j = j-1\n",
        "  return array\n",
        "\n",
        "def tilt_south(array):\n",
        "  # upside down\n",
        "  array = np.flipud(array)\n",
        "  # do the north tilt\n",
        "  array = tilt_north(array)\n",
        "  # upside down again\n",
        "  array = np.flipud(array)\n",
        "  return array\n",
        "\n",
        "def tilt_west(array):\n",
        "  # find all indices of stones - 0\n",
        "  stones_row, stones_col = np.where(array == 0)[0], np.where(array == 0)[1]\n",
        "  for i in range(len(stones_col)):\n",
        "    col_num = stones_col[i]\n",
        "    row_num = stones_row[i]\n",
        "    # roll the stone\n",
        "    j = col_num - 1\n",
        "    while (j >= 0) and (array[row_num, j] == 1):\n",
        "      array[row_num, j+1] = 1\n",
        "      array[row_num, j] = 0\n",
        "      j = j-1\n",
        "  return array\n",
        "\n",
        "def tilt_east(array):\n",
        "  # left to right\n",
        "  array = np.fliplr(array)\n",
        "  # do the west tilt\n",
        "  array = tilt_west(array)\n",
        "  # left to right again\n",
        "  array = np.fliplr(array)\n",
        "  return array\n",
        "\n",
        "def spin(array):\n",
        "  array = tilt_north(array)\n",
        "  array = tilt_west(array)\n",
        "  array = tilt_south(array)\n",
        "  array = tilt_east(array)\n",
        "  return array\n",
        "\n",
        "def spin_n(array, n):\n",
        "  for i in range(n):\n",
        "    if i % 10000 == 0:\n",
        "      print(i)\n",
        "    array = spin(array)\n",
        "  return array\n",
        "\n",
        "def spin_n_and_get_load(array, n):\n",
        "  array = spin_n(array, n)\n",
        "  result = get_support(array)\n",
        "  return result\n",
        "\n",
        "  input = replace(input)\n",
        "  array = string_to_array(input)\n",
        "\n",
        "def get_answer2(input,n):\n",
        "  input = replace(input)\n",
        "  array = string_to_array(input)\n",
        "  return spin_n_and_get_load(array, n)"
      ],
      "metadata": {
        "id": "vb6lqsVdKq_G"
      },
      "execution_count": 92,
      "outputs": []
    },
    {
      "cell_type": "code",
      "source": [
        "# get_answer2(test_01, 1000000000)"
      ],
      "metadata": {
        "id": "Gw1bmZNaMHfT"
      },
      "execution_count": 94,
      "outputs": []
    },
    {
      "cell_type": "code",
      "source": [],
      "metadata": {
        "id": "6mUrYIXOMHGs"
      },
      "execution_count": null,
      "outputs": []
    }
  ]
}