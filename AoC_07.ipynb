{
  "nbformat": 4,
  "nbformat_minor": 0,
  "metadata": {
    "colab": {
      "provenance": [],
      "authorship_tag": "ABX9TyNxgNml8jlE2tRcMuT0MkTL",
      "include_colab_link": true
    },
    "kernelspec": {
      "name": "python3",
      "display_name": "Python 3"
    },
    "language_info": {
      "name": "python"
    }
  },
  "cells": [
    {
      "cell_type": "markdown",
      "metadata": {
        "id": "view-in-github",
        "colab_type": "text"
      },
      "source": [
        "<a href=\"https://colab.research.google.com/github/ihawryluk/advent-of-code-2023/blob/main/AoC_07.ipynb\" target=\"_parent\"><img src=\"https://colab.research.google.com/assets/colab-badge.svg\" alt=\"Open In Colab\"/></a>"
      ]
    },
    {
      "cell_type": "code",
      "execution_count": 179,
      "metadata": {
        "id": "93DpzH0227Kz"
      },
      "outputs": [],
      "source": [
        "import re\n",
        "from collections import Counter\n",
        "import numpy as np"
      ]
    },
    {
      "cell_type": "markdown",
      "source": [
        "# Task 1"
      ],
      "metadata": {
        "id": "kfFEHl4v2_pm"
      }
    },
    {
      "cell_type": "code",
      "source": [
        "test_01 = \"\"\"32T3K 765\n",
        "T55J5 684\n",
        "KK677 28\n",
        "KTJJT 220\n",
        "QQQJA 483\"\"\""
      ],
      "metadata": {
        "id": "1EJsr-V72_Af"
      },
      "execution_count": 180,
      "outputs": []
    },
    {
      "cell_type": "code",
      "source": [
        "from collections import Counter\n",
        "\n",
        "freq = Counter('T55J5')\n",
        "freq"
      ],
      "metadata": {
        "colab": {
          "base_uri": "https://localhost:8080/"
        },
        "id": "gtBDCVK_36Qz",
        "outputId": "0194a58e-fee3-4dce-b441-d28f35c80fa6"
      },
      "execution_count": 181,
      "outputs": [
        {
          "output_type": "execute_result",
          "data": {
            "text/plain": [
              "Counter({'T': 1, '5': 3, 'J': 1})"
            ]
          },
          "metadata": {},
          "execution_count": 181
        }
      ]
    },
    {
      "cell_type": "code",
      "source": [
        "print(freq.values())\n",
        "print(max(list(freq.values())))"
      ],
      "metadata": {
        "colab": {
          "base_uri": "https://localhost:8080/"
        },
        "id": "gTyR4Dn-4OF1",
        "outputId": "62c6a2e0-73db-4b97-efb4-262906e5cb40"
      },
      "execution_count": 182,
      "outputs": [
        {
          "output_type": "stream",
          "name": "stdout",
          "text": [
            "dict_values([1, 3, 1])\n",
            "3\n"
          ]
        }
      ]
    },
    {
      "cell_type": "code",
      "source": [
        "freq = list(freq.values())\n",
        "freq"
      ],
      "metadata": {
        "colab": {
          "base_uri": "https://localhost:8080/"
        },
        "id": "xvKEaYfq5il4",
        "outputId": "2a3f1015-88e2-4d3e-8fda-9a57ad4c86a8"
      },
      "execution_count": 183,
      "outputs": [
        {
          "output_type": "execute_result",
          "data": {
            "text/plain": [
              "[1, 3, 1]"
            ]
          },
          "metadata": {},
          "execution_count": 183
        }
      ]
    },
    {
      "cell_type": "code",
      "source": [
        "if 1 in freq:\n",
        "  print('yes')"
      ],
      "metadata": {
        "colab": {
          "base_uri": "https://localhost:8080/"
        },
        "id": "LvgpeYx75p_W",
        "outputId": "09438d1c-e364-4639-ab08-9f1fe7a409a6"
      },
      "execution_count": 184,
      "outputs": [
        {
          "output_type": "stream",
          "name": "stdout",
          "text": [
            "yes\n"
          ]
        }
      ]
    },
    {
      "cell_type": "code",
      "source": [
        "(\"AKQJT98765432\")[::-1]"
      ],
      "metadata": {
        "colab": {
          "base_uri": "https://localhost:8080/",
          "height": 35
        },
        "id": "XLHPVkKu6L2b",
        "outputId": "50c15e52-8223-4ea5-defe-064912249431"
      },
      "execution_count": 185,
      "outputs": [
        {
          "output_type": "execute_result",
          "data": {
            "text/plain": [
              "'23456789TJQKA'"
            ],
            "application/vnd.google.colaboratory.intrinsic+json": {
              "type": "string"
            }
          },
          "metadata": {},
          "execution_count": 185
        }
      ]
    },
    {
      "cell_type": "code",
      "source": [
        "def cards_type(cards):\n",
        "  freq = list(Counter(cards).values())   # we only need the frequency, we do not need the type of a card\n",
        "  # print(freq)\n",
        "  # print('Max freq', max(freq))\n",
        "  if max(freq) == 5:\n",
        "    return 5  # five of a kind\n",
        "  if max(freq) == 4:\n",
        "    return 4  # four of a kind\n",
        "  if max(freq) == 3:\n",
        "    if 2 in freq:\n",
        "      return 3.5  # full house\n",
        "    return 3  # three of a kind\n",
        "  if freq.count(2) == 2:\n",
        "    return 2.5 # two pairs\n",
        "  if max(freq) == 2:\n",
        "    return 2  # one pair\n",
        "  return 1  # distinct card\n"
      ],
      "metadata": {
        "id": "fIT1ninv3ATo"
      },
      "execution_count": 186,
      "outputs": []
    },
    {
      "cell_type": "code",
      "source": [
        "print(cards_type('32T3K'))\n",
        "print(cards_type('T55J5'))\n",
        "print(cards_type('KTJJT'))\n"
      ],
      "metadata": {
        "colab": {
          "base_uri": "https://localhost:8080/"
        },
        "id": "Jf0m70mh66n0",
        "outputId": "e096c632-a143-41f8-b9b4-4a34d5df2504"
      },
      "execution_count": 187,
      "outputs": [
        {
          "output_type": "stream",
          "name": "stdout",
          "text": [
            "2\n",
            "3\n",
            "2.5\n"
          ]
        }
      ]
    },
    {
      "cell_type": "code",
      "source": [
        "def get_cards_and_bids(input):\n",
        "\n",
        "  split_lines = input.split('\\n')\n",
        "  cards = []\n",
        "  bids = []\n",
        "  for line in split_lines:\n",
        "    parts = line.split(' ')\n",
        "    cards.append(parts[0])\n",
        "    bids.append(int(parts[1]))\n",
        "  return cards, bids\n",
        "\n",
        "def sort_cards_by_single_cards(cards, bids):\n",
        "  alphabet = \"23456789TJQKA\"\n",
        "  indices = list(np.arange(len(cards)))\n",
        "  indices_sorted = sorted(indices, key=lambda x: [alphabet.index(c) for c in cards[x]])\n",
        "  return [cards[i] for i in indices_sorted], [bids[i] for i in indices_sorted]"
      ],
      "metadata": {
        "id": "sFjfgsMaAbbE"
      },
      "execution_count": 188,
      "outputs": []
    },
    {
      "cell_type": "code",
      "source": [
        "def get_all_cards_types(game):\n",
        "  result = []\n",
        "  for cards in game:\n",
        "    result.append(cards_type(cards))\n",
        "  return result"
      ],
      "metadata": {
        "id": "uLFRBjkMA2Jd"
      },
      "execution_count": 189,
      "outputs": []
    },
    {
      "cell_type": "code",
      "source": [
        "# just some tests\n",
        "alphabet = \"23456789TJQKA\"\n",
        "cards = ['32T3K', 'T55J5', 'KK677', 'KTJJT', 'QQQJA']\n",
        "indices = list(np.arange(len(cards)))\n",
        "print(indices)\n",
        "print(sorted(indices, key=lambda x: [alphabet.index(c) for c in cards[x]]))\n",
        "# print(sorted(cards, key=lambda word: [alphabet.index(c) for c in word]))\n",
        "\n",
        "indices_sorted = sorted(indices, key=lambda x: [alphabet.index(c) for c in cards[x]])\n",
        "print([cards[i] for i in indices_sorted])\n",
        "print(sorted(cards, key=lambda word: [alphabet.index(c) for c in word]))\n"
      ],
      "metadata": {
        "colab": {
          "base_uri": "https://localhost:8080/"
        },
        "id": "YFssPec6Ga8I",
        "outputId": "09659085-5940-40e1-bd37-e0dd01a3f1fb"
      },
      "execution_count": 190,
      "outputs": [
        {
          "output_type": "stream",
          "name": "stdout",
          "text": [
            "[0, 1, 2, 3, 4]\n",
            "[0, 1, 4, 3, 2]\n",
            "['32T3K', 'T55J5', 'QQQJA', 'KTJJT', 'KK677']\n",
            "['32T3K', 'T55J5', 'QQQJA', 'KTJJT', 'KK677']\n"
          ]
        }
      ]
    },
    {
      "cell_type": "code",
      "source": [
        "get_cards_and_bids(test_01)"
      ],
      "metadata": {
        "colab": {
          "base_uri": "https://localhost:8080/"
        },
        "id": "nXTIHntO-HUm",
        "outputId": "d17fa1c1-9b4c-4ff9-ec7c-6ee2ee9eda1d"
      },
      "execution_count": 191,
      "outputs": [
        {
          "output_type": "execute_result",
          "data": {
            "text/plain": [
              "(['32T3K', 'T55J5', 'KK677', 'KTJJT', 'QQQJA'], [765, 684, 28, 220, 483])"
            ]
          },
          "metadata": {},
          "execution_count": 191
        }
      ]
    },
    {
      "cell_type": "code",
      "source": [
        "cards, bids = get_cards_and_bids(test_01)\n",
        "types = get_all_cards_types(cards)\n",
        "types\n"
      ],
      "metadata": {
        "colab": {
          "base_uri": "https://localhost:8080/"
        },
        "id": "N5FRrFX2BsBG",
        "outputId": "7782cb90-5885-45a9-a3da-9a226f111db4"
      },
      "execution_count": 192,
      "outputs": [
        {
          "output_type": "execute_result",
          "data": {
            "text/plain": [
              "[2, 3, 2.5, 2.5, 3]"
            ]
          },
          "metadata": {},
          "execution_count": 192
        }
      ]
    },
    {
      "cell_type": "code",
      "source": [
        "print(types)\n",
        "idx_sort1 = np.argsort(types, kind='stable')\n",
        "idx_sort1"
      ],
      "metadata": {
        "colab": {
          "base_uri": "https://localhost:8080/"
        },
        "id": "fj1pT5dpNzhz",
        "outputId": "52b74f3f-443a-4004-c9d8-c2abf6f7c206"
      },
      "execution_count": 193,
      "outputs": [
        {
          "output_type": "stream",
          "name": "stdout",
          "text": [
            "[2, 3, 2.5, 2.5, 3]\n"
          ]
        },
        {
          "output_type": "execute_result",
          "data": {
            "text/plain": [
              "array([0, 2, 3, 1, 4])"
            ]
          },
          "metadata": {},
          "execution_count": 193
        }
      ]
    },
    {
      "cell_type": "code",
      "source": [
        "print([types[i] for i in idx_sort1])\n",
        "print([cards[i] for i in idx_sort1])\n",
        "print([bids[i] for i in idx_sort1])\n"
      ],
      "metadata": {
        "colab": {
          "base_uri": "https://localhost:8080/"
        },
        "id": "7mDMrcrWCeZd",
        "outputId": "6ec98ea9-45f7-4153-dbe5-b01fa2472df8"
      },
      "execution_count": 194,
      "outputs": [
        {
          "output_type": "stream",
          "name": "stdout",
          "text": [
            "[2, 2.5, 2.5, 3, 3]\n",
            "['32T3K', 'KK677', 'KTJJT', 'T55J5', 'QQQJA']\n",
            "[765, 28, 220, 684, 483]\n"
          ]
        }
      ]
    },
    {
      "cell_type": "code",
      "source": [
        "np.unique(types)"
      ],
      "metadata": {
        "colab": {
          "base_uri": "https://localhost:8080/"
        },
        "id": "xPtaL2tpPRjl",
        "outputId": "3fded695-8058-48f9-bdd8-49ab85cf9151"
      },
      "execution_count": 195,
      "outputs": [
        {
          "output_type": "execute_result",
          "data": {
            "text/plain": [
              "array([2. , 2.5, 3. ])"
            ]
          },
          "metadata": {},
          "execution_count": 195
        }
      ]
    },
    {
      "cell_type": "code",
      "source": [
        "np.argwhere(np.array(types) == 2.5).flatten()"
      ],
      "metadata": {
        "colab": {
          "base_uri": "https://localhost:8080/"
        },
        "id": "GD6Y1ifJPqfD",
        "outputId": "95168ec0-9863-40de-efd9-bb9cfcef78a2"
      },
      "execution_count": 196,
      "outputs": [
        {
          "output_type": "execute_result",
          "data": {
            "text/plain": [
              "array([2, 3])"
            ]
          },
          "metadata": {},
          "execution_count": 196
        }
      ]
    },
    {
      "cell_type": "markdown",
      "source": [
        "put it together"
      ],
      "metadata": {
        "id": "AKxkgyVkNZo_"
      }
    },
    {
      "cell_type": "code",
      "source": [
        "def get_answer(input):\n",
        "  cards, bids = get_cards_and_bids(input)\n",
        "  cards, bids = sort_cards_by_single_cards(cards, bids)\n",
        "  types = get_all_cards_types(cards)\n",
        "  types_np = np.array(types)\n",
        "  # I wanted to use argsort but it changes order of the elements!!!\n",
        "  unique_types = np.unique(types)\n",
        "  result = 0\n",
        "  order = 1\n",
        "  for t in unique_types:\n",
        "    # find all indices of cards with that type\n",
        "    ind = np.argwhere(types_np == t).flatten()\n",
        "    # find corresponding bids\n",
        "    bids_won = [bids[i] for i in ind]\n",
        "    # multiply by bids\n",
        "    for b in bids_won:\n",
        "      result += order * b\n",
        "      order += 1\n",
        "  return result\n",
        "\n",
        "\n"
      ],
      "metadata": {
        "id": "iH8tEe1dNbP2"
      },
      "execution_count": 197,
      "outputs": []
    },
    {
      "cell_type": "code",
      "source": [
        "get_answer(test_01)"
      ],
      "metadata": {
        "colab": {
          "base_uri": "https://localhost:8080/"
        },
        "id": "--gqP92BNbSA",
        "outputId": "e0c580b6-3e99-414c-8c22-abf86d8eb235"
      },
      "execution_count": 198,
      "outputs": [
        {
          "output_type": "execute_result",
          "data": {
            "text/plain": [
              "6440"
            ]
          },
          "metadata": {},
          "execution_count": 198
        }
      ]
    },
    {
      "cell_type": "markdown",
      "source": [
        "# input"
      ],
      "metadata": {
        "id": "z3diyrONRQwr"
      }
    },
    {
      "cell_type": "code",
      "source": [
        "input = \"\"\"94J8A 16\n",
        "JK59A 722\n",
        "Q5QQQ 681\n",
        "T99T2 39\n",
        "595JQ 533\n",
        "98299 550\n",
        "T596T 971\n",
        "JQ999 831\n",
        "J3K39 340\n",
        "K93T5 107\n",
        "2999T 750\n",
        "KQ4K4 603\n",
        "TT6TT 778\n",
        "QAQJQ 731\n",
        "K2444 109\n",
        "T87J4 984\n",
        "72272 70\n",
        "555QJ 266\n",
        "44384 872\n",
        "67768 140\n",
        "555A9 322\n",
        "Q9A52 14\n",
        "6JTTT 994\n",
        "66J7Q 360\n",
        "6J966 170\n",
        "74335 288\n",
        "Q7QK7 318\n",
        "T63K8 355\n",
        "88Q38 612\n",
        "TKKKK 291\n",
        "8T295 608\n",
        "77A77 312\n",
        "3ATTA 861\n",
        "6JJ66 866\n",
        "82367 229\n",
        "J86TQ 457\n",
        "AJAAA 521\n",
        "JTTTT 380\n",
        "555K5 223\n",
        "4Q688 398\n",
        "84K8Q 302\n",
        "TQ478 514\n",
        "A2229 604\n",
        "69JA4 536\n",
        "T5555 815\n",
        "6877T 287\n",
        "4333J 617\n",
        "74Q23 688\n",
        "A5T5J 21\n",
        "TT884 945\n",
        "98J32 22\n",
        "K7JK7 464\n",
        "55466 484\n",
        "J8A78 175\n",
        "4A586 307\n",
        "326T9 834\n",
        "J7883 678\n",
        "J9TJ2 798\n",
        "49999 366\n",
        "2KK9J 436\n",
        "T7A5K 35\n",
        "K8A23 172\n",
        "4TA36 445\n",
        "33T3T 843\n",
        "8QA86 397\n",
        "43QQQ 523\n",
        "72J99 364\n",
        "JAATT 9\n",
        "KTTTT 620\n",
        "92JT9 389\n",
        "25552 825\n",
        "23A58 676\n",
        "TJ4K6 167\n",
        "T55J8 636\n",
        "Q75J5 433\n",
        "47387 121\n",
        "TTK33 226\n",
        "K5786 532\n",
        "Q88AJ 767\n",
        "T6725 975\n",
        "76776 108\n",
        "KQKK5 753\n",
        "9T699 73\n",
        "56AJA 89\n",
        "KTKK9 947\n",
        "JQQQJ 998\n",
        "7Q8J7 600\n",
        "2A42A 605\n",
        "Q2K74 566\n",
        "TATAA 134\n",
        "227K7 712\n",
        "K5K7Q 139\n",
        "4844A 233\n",
        "44AQA 91\n",
        "AA888 885\n",
        "872JK 734\n",
        "32329 764\n",
        "5KA54 475\n",
        "28888 62\n",
        "K9K88 463\n",
        "A4AAA 565\n",
        "9JJ49 117\n",
        "2685Q 210\n",
        "KT2T2 594\n",
        "9TK8T 690\n",
        "625J8 607\n",
        "AQQQ9 571\n",
        "56A6A 916\n",
        "A4AJ7 935\n",
        "9J68A 967\n",
        "5T899 479\n",
        "T5836 853\n",
        "88443 404\n",
        "K5K5K 77\n",
        "66A65 501\n",
        "3A3J7 127\n",
        "66K68 336\n",
        "KQAKA 391\n",
        "864QQ 153\n",
        "Q97QQ 224\n",
        "74T63 52\n",
        "6T555 981\n",
        "4444A 543\n",
        "8J558 111\n",
        "5656J 810\n",
        "89484 439\n",
        "9A7K3 444\n",
        "3Q443 306\n",
        "ATAAA 253\n",
        "7T934 33\n",
        "K9582 645\n",
        "66K26 344\n",
        "9A9AA 535\n",
        "J8KQ2 695\n",
        "AA2AA 491\n",
        "78777 891\n",
        "AAQ9A 12\n",
        "AQJ93 490\n",
        "KKAKK 913\n",
        "333TJ 643\n",
        "Q96J6 826\n",
        "66767 937\n",
        "88757 769\n",
        "584Q6 334\n",
        "TA29T 162\n",
        "K33K9 506\n",
        "T5A5A 836\n",
        "333Q3 152\n",
        "6T7KA 31\n",
        "T6834 572\n",
        "2TTTJ 959\n",
        "6AA6A 95\n",
        "Q4A3A 216\n",
        "QQ3JJ 471\n",
        "AT4TT 817\n",
        "49628 400\n",
        "388A4 144\n",
        "TJ75T 86\n",
        "JQ4Q2 250\n",
        "8T8JQ 835\n",
        "TJTT8 56\n",
        "8T4K9 705\n",
        "A9JTA 81\n",
        "36646 420\n",
        "5KKK2 345\n",
        "QA965 823\n",
        "J34K4 85\n",
        "82288 797\n",
        "829Q5 488\n",
        "A699J 399\n",
        "6642J 1000\n",
        "K9KK6 267\n",
        "5JA5A 17\n",
        "K6TJT 884\n",
        "7A667 869\n",
        "KQATT 929\n",
        "88884 468\n",
        "K495T 141\n",
        "6573A 827\n",
        "KK354 979\n",
        "JTTT5 335\n",
        "T5398 182\n",
        "AAJ9A 157\n",
        "JQ935 897\n",
        "J999J 251\n",
        "T6T5T 702\n",
        "5TAAA 381\n",
        "TJT22 960\n",
        "AJQ57 883\n",
        "99T9J 234\n",
        "KKKKJ 495\n",
        "9K99K 961\n",
        "QQ777 589\n",
        "337J2 652\n",
        "9T269 813\n",
        "22Q8J 165\n",
        "98659 847\n",
        "32TT2 542\n",
        "2273Q 718\n",
        "39399 455\n",
        "9KKQ3 856\n",
        "64T4T 795\n",
        "777T8 694\n",
        "22AJ2 274\n",
        "69966 706\n",
        "7K533 860\n",
        "2TQK9 756\n",
        "T225T 246\n",
        "2KK8J 664\n",
        "QJQ6Q 540\n",
        "5TTT7 625\n",
        "799K5 740\n",
        "KKK2K 6\n",
        "553J3 431\n",
        "QAQAQ 454\n",
        "777JT 970\n",
        "72492 955\n",
        "7777T 18\n",
        "3KA94 496\n",
        "3J3J3 707\n",
        "7JJ4Q 746\n",
        "36463 780\n",
        "7A42K 545\n",
        "KTAJA 203\n",
        "45443 761\n",
        "95A5J 8\n",
        "58833 438\n",
        "66Q23 814\n",
        "466KK 576\n",
        "2TT2T 113\n",
        "426KQ 595\n",
        "72J49 69\n",
        "QJKQK 757\n",
        "J5J5K 667\n",
        "5522Q 132\n",
        "QTQ9T 494\n",
        "T2222 450\n",
        "3242J 717\n",
        "66766 968\n",
        "984J8 372\n",
        "986QK 739\n",
        "242TT 902\n",
        "K46KK 659\n",
        "3TA5J 644\n",
        "QA92K 901\n",
        "QQQ59 933\n",
        "QJ666 504\n",
        "JQ2Q8 461\n",
        "94J49 42\n",
        "78888 850\n",
        "T64QT 812\n",
        "QQQ25 918\n",
        "855AJ 316\n",
        "88J28 528\n",
        "78Q46 672\n",
        "29999 44\n",
        "9K96K 13\n",
        "2KAKK 204\n",
        "QAQAJ 806\n",
        "AKKKA 79\n",
        "22KJ2 27\n",
        "J89Q6 294\n",
        "T66JT 640\n",
        "4J4Q9 208\n",
        "6Q54Q 297\n",
        "88777 737\n",
        "J825A 537\n",
        "K4K44 498\n",
        "QQQTQ 493\n",
        "4J749 434\n",
        "5Q868 324\n",
        "99437 243\n",
        "J9829 425\n",
        "J2222 720\n",
        "T5372 37\n",
        "447TT 437\n",
        "26292 145\n",
        "86866 361\n",
        "Q6T32 771\n",
        "KKKA7 553\n",
        "774K7 958\n",
        "2KJ2K 375\n",
        "8T34K 60\n",
        "KTK9T 164\n",
        "36333 547\n",
        "55Q55 191\n",
        "8K37A 123\n",
        "8945J 704\n",
        "AA75K 71\n",
        "TTTT3 280\n",
        "Q2Q4Q 977\n",
        "J3936 259\n",
        "55877 725\n",
        "4424A 409\n",
        "97799 46\n",
        "43422 174\n",
        "33443 269\n",
        "AAQ3K 873\n",
        "69699 395\n",
        "T8942 824\n",
        "JT993 105\n",
        "T44T4 319\n",
        "9863K 190\n",
        "A9236 953\n",
        "2K62K 931\n",
        "A7TKA 559\n",
        "32323 41\n",
        "T2T22 422\n",
        "2QQ2Q 279\n",
        "QT3QJ 519\n",
        "6Q4K5 573\n",
        "3JA93 7\n",
        "KJ777 275\n",
        "A7JTQ 930\n",
        "AA8Q7 531\n",
        "2QQ6A 219\n",
        "6JA9A 136\n",
        "Q2369 530\n",
        "99998 830\n",
        "5788K 218\n",
        "AQQQQ 683\n",
        "K33K3 879\n",
        "K83A9 949\n",
        "K9J99 356\n",
        "25J22 657\n",
        "53AJ7 782\n",
        "99QQQ 412\n",
        "63969 821\n",
        "23455 489\n",
        "2JAA3 3\n",
        "77TTT 631\n",
        "6975A 367\n",
        "44K7Q 520\n",
        "J3Q3K 310\n",
        "AA4AJ 660\n",
        "5A3A6 833\n",
        "Q7Q7Q 755\n",
        "9TQ44 424\n",
        "878A8 515\n",
        "T8TTT 323\n",
        "7TKT7 209\n",
        "KTTJ5 563\n",
        "2KQQ3 469\n",
        "2T45J 808\n",
        "25AA5 293\n",
        "6K76J 255\n",
        "2J53T 807\n",
        "899J9 507\n",
        "48448 805\n",
        "JQ272 849\n",
        "T9999 794\n",
        "J2282 992\n",
        "66588 691\n",
        "3T273 137\n",
        "T78T3 453\n",
        "TA2J6 221\n",
        "J4J77 647\n",
        "77762 940\n",
        "6TKT4 551\n",
        "48478 941\n",
        "9K49K 295\n",
        "4T844 516\n",
        "5524J 460\n",
        "4KJ2K 788\n",
        "2J22J 330\n",
        "Q5JAQ 87\n",
        "T3338 168\n",
        "42JT4 235\n",
        "77333 646\n",
        "8JTT6 878\n",
        "48444 315\n",
        "TT888 429\n",
        "48774 385\n",
        "25732 650\n",
        "AAA96 684\n",
        "55J55 103\n",
        "444Q4 196\n",
        "77J37 342\n",
        "765T8 747\n",
        "TKKJT 4\n",
        "45842 122\n",
        "9T3KJ 889\n",
        "458QA 184\n",
        "JQQQQ 982\n",
        "5T492 282\n",
        "25QJ2 228\n",
        "Q28TA 899\n",
        "6T34T 286\n",
        "A4AA9 579\n",
        "74444 10\n",
        "K52K2 689\n",
        "6K663 343\n",
        "996J6 875\n",
        "222QQ 245\n",
        "73JJT 742\n",
        "4K466 502\n",
        "59Q99 5\n",
        "K43JK 300\n",
        "2922K 900\n",
        "AAA3A 938\n",
        "T5TTT 996\n",
        "Q7797 560\n",
        "35767 321\n",
        "89998 964\n",
        "TAJ78 539\n",
        "5552T 254\n",
        "4J848 675\n",
        "22932 762\n",
        "66J44 283\n",
        "6T66K 371\n",
        "965J6 415\n",
        "45TK5 48\n",
        "4AJT2 943\n",
        "2232J 687\n",
        "9KTA3 373\n",
        "TT44T 602\n",
        "2975A 596\n",
        "6683J 862\n",
        "6TJ54 193\n",
        "TT3QT 582\n",
        "3TT3J 567\n",
        "9585J 554\n",
        "8A5T8 72\n",
        "Q8888 124\n",
        "Q84JK 272\n",
        "8K882 115\n",
        "454T3 449\n",
        "46886 239\n",
        "63633 692\n",
        "Q2KQK 622\n",
        "662AA 714\n",
        "TQTJ8 858\n",
        "39699 829\n",
        "TKT8K 379\n",
        "8JKTT 854\n",
        "99Q9Q 264\n",
        "K52J2 828\n",
        "QQ223 632\n",
        "833QT 188\n",
        "74778 393\n",
        "3J33A 347\n",
        "JQAAA 575\n",
        "4975T 189\n",
        "AA8AA 98\n",
        "88588 474\n",
        "KKKJ5 58\n",
        "77757 249\n",
        "6J666 2\n",
        "88Q8Q 895\n",
        "KT4T3 924\n",
        "7A757 20\n",
        "852A5 838\n",
        "92479 818\n",
        "45J55 556\n",
        "777J7 443\n",
        "622TT 907\n",
        "A55J4 236\n",
        "J94T7 194\n",
        "TK239 887\n",
        "T2359 892\n",
        "3T67K 730\n",
        "9595Q 480\n",
        "362J2 912\n",
        "J33K5 915\n",
        "999TQ 735\n",
        "6J555 383\n",
        "35555 261\n",
        "7J374 403\n",
        "77776 200\n",
        "46226 908\n",
        "A5A55 627\n",
        "6466K 999\n",
        "33433 789\n",
        "4QQJQ 635\n",
        "K857T 326\n",
        "46844 611\n",
        "55K4J 247\n",
        "9TTTT 411\n",
        "K5999 270\n",
        "3333J 598\n",
        "9TT9T 615\n",
        "TKT88 653\n",
        "7AQJK 629\n",
        "7A294 863\n",
        "9JQ4J 427\n",
        "K7K7K 738\n",
        "55338 304\n",
        "55659 120\n",
        "AA22Q 768\n",
        "KKK88 886\n",
        "K7K4A 983\n",
        "9T449 715\n",
        "6AA55 956\n",
        "66556 777\n",
        "Q4K36 736\n",
        "78Q77 207\n",
        "8J778 917\n",
        "4AJQT 435\n",
        "9KJQQ 716\n",
        "422JK 406\n",
        "62A9J 205\n",
        "25A25 11\n",
        "K8888 985\n",
        "KTTKK 19\n",
        "76KQT 877\n",
        "5A555 217\n",
        "97933 995\n",
        "4K4KT 135\n",
        "QQ4J4 546\n",
        "TATA6 946\n",
        "KAJ2A 837\n",
        "8333J 238\n",
        "47666 376\n",
        "Q5QA5 839\n",
        "8Q64T 951\n",
        "QA23Q 240\n",
        "T6T7T 972\n",
        "648T7 92\n",
        "6T33T 271\n",
        "25528 948\n",
        "JAAJA 50\n",
        "45455 578\n",
        "AA8J4 588\n",
        "A6QT2 867\n",
        "2T392 765\n",
        "32Q3Q 950\n",
        "KA8KT 816\n",
        "59J28 973\n",
        "883A2 237\n",
        "J555J 864\n",
        "62222 325\n",
        "Q543T 637\n",
        "338TJ 290\n",
        "T58J6 198\n",
        "5QAJ8 583\n",
        "T4K6Q 476\n",
        "K3333 888\n",
        "24443 421\n",
        "29629 776\n",
        "J88J7 116\n",
        "66K33 119\n",
        "JA7A7 214\n",
        "J3353 920\n",
        "45442 616\n",
        "7Q36T 963\n",
        "A22JK 719\n",
        "QAJA6 791\n",
        "55J44 65\n",
        "3TQ79 351\n",
        "8JKK8 642\n",
        "79999 292\n",
        "974JK 94\n",
        "JJJJ8 151\n",
        "K7JA5 903\n",
        "JKK4J 932\n",
        "66755 405\n",
        "AJ647 146\n",
        "Q2T29 202\n",
        "JA6A2 591\n",
        "55635 374\n",
        "J6J53 896\n",
        "75575 621\n",
        "TTQTJ 852\n",
        "74Q33 989\n",
        "9357J 555\n",
        "T75J5 801\n",
        "J6KT5 974\n",
        "T6667 910\n",
        "3KA6A 597\n",
        "3TTT3 505\n",
        "Q2442 423\n",
        "977Q3 624\n",
        "28622 442\n",
        "33338 670\n",
        "K3KK3 677\n",
        "7Q995 296\n",
        "747J4 88\n",
        "8KKKA 128\n",
        "6AQJ5 130\n",
        "7K362 171\n",
        "4KT35 353\n",
        "A94A9 561\n",
        "TT7JQ 388\n",
        "886A8 441\n",
        "899Q5 15\n",
        "AKAAA 529\n",
        "J6T9T 447\n",
        "5TQ29 811\n",
        "TTTAQ 685\n",
        "56556 359\n",
        "JKK38 698\n",
        "75QQJ 440\n",
        "9TK8J 786\n",
        "6Q442 54\n",
        "5KK75 320\n",
        "47QTQ 623\n",
        "Q496Q 257\n",
        "97TTJ 260\n",
        "A96K2 61\n",
        "959A5 783\n",
        "5T55K 256\n",
        "JJJJ9 570\n",
        "724T2 197\n",
        "A4JA2 574\n",
        "22J29 201\n",
        "929J3 759\n",
        "888T6 585\n",
        "662JK 212\n",
        "KQ53K 954\n",
        "99J99 472\n",
        "424J2 587\n",
        "566KJ 149\n",
        "K693T 609\n",
        "44794 751\n",
        "7A3TQ 728\n",
        "5J2J8 666\n",
        "AAK99 365\n",
        "KQ378 481\n",
        "57Q29 865\n",
        "797AA 842\n",
        "AAA33 180\n",
        "5AK55 820\n",
        "KK5AK 299\n",
        "77773 378\n",
        "8K899 944\n",
        "44994 976\n",
        "A6AJ6 96\n",
        "53533 354\n",
        "45JK4 154\n",
        "99399 176\n",
        "22424 518\n",
        "7AAKK 377\n",
        "J4KA5 772\n",
        "Q3QQ8 179\n",
        "585T5 881\n",
        "59969 928\n",
        "2K2K3 710\n",
        "ATKTA 499\n",
        "56466 34\n",
        "44242 308\n",
        "7J275 741\n",
        "588T6 317\n",
        "QKA79 369\n",
        "JA546 1\n",
        "4T447 927\n",
        "A33A3 641\n",
        "T7T77 301\n",
        "36366 185\n",
        "399A7 51\n",
        "AJ33J 743\n",
        "T7J7T 59\n",
        "6KJ7J 426\n",
        "5J586 32\n",
        "K8KKK 654\n",
        "K62K9 341\n",
        "824K7 133\n",
        "6AJAA 29\n",
        "63AJA 993\n",
        "4K44T 401\n",
        "67A92 697\n",
        "A5592 845\n",
        "AK578 30\n",
        "QT4TQ 894\n",
        "3373J 456\n",
        "35TT3 500\n",
        "45A48 803\n",
        "44454 222\n",
        "54445 628\n",
        "A6696 527\n",
        "88AA7 211\n",
        "344AA 68\n",
        "6J3TK 248\n",
        "7557J 701\n",
        "45T98 394\n",
        "49TTT 868\n",
        "448J4 93\n",
        "A45TQ 682\n",
        "2A2AA 599\n",
        "77Q77 78\n",
        "88585 339\n",
        "J3QQ3 726\n",
        "74JK7 980\n",
        "9454T 327\n",
        "TTT7T 534\n",
        "TJK95 370\n",
        "T2T79 314\n",
        "2A333 822\n",
        "J9765 562\n",
        "9T6T9 36\n",
        "J2J35 313\n",
        "789QQ 396\n",
        "KJ3Q4 362\n",
        "J5999 166\n",
        "TQKT3 90\n",
        "J6T53 413\n",
        "99655 186\n",
        "J455T 305\n",
        "K95A5 601\n",
        "37377 749\n",
        "JTKAT 252\n",
        "J8275 508\n",
        "QK296 766\n",
        "AJKK6 610\n",
        "TTAAT 926\n",
        "T5T4T 939\n",
        "QQ8Q8 195\n",
        "28J2J 593\n",
        "KKK9K 703\n",
        "5T5TT 905\n",
        "88988 101\n",
        "697JJ 538\n",
        "6266T 510\n",
        "2878T 333\n",
        "T8J26 773\n",
        "83773 763\n",
        "T9J33 384\n",
        "2AK92 656\n",
        "22JJ3 169\n",
        "K2T9T 649\n",
        "QQ8QQ 428\n",
        "QKJKK 770\n",
        "T64A5 410\n",
        "6T7T2 748\n",
        "T3J55 890\n",
        "55557 74\n",
        "AAJ7A 467\n",
        "22K22 155\n",
        "TK27J 988\n",
        "9T64A 309\n",
        "77AAA 804\n",
        "QQQ7Q 503\n",
        "78837 138\n",
        "6A785 792\n",
        "6Q4QQ 76\n",
        "8AT69 721\n",
        "TKKKJ 680\n",
        "73555 407\n",
        "4Q999 114\n",
        "45K55 242\n",
        "J4742 390\n",
        "AA8A8 626\n",
        "47T3T 898\n",
        "TA9J8 231\n",
        "9T9A9 809\n",
        "4K799 619\n",
        "8K99K 727\n",
        "J7KJK 338\n",
        "AQ4K9 485\n",
        "QQ2QQ 129\n",
        "7T45A 473\n",
        "2T7T2 785\n",
        "7J749 84\n",
        "AJ7Q7 733\n",
        "386AJ 911\n",
        "59A68 104\n",
        "335K6 723\n",
        "KK979 289\n",
        "898QA 466\n",
        "9TTKT 648\n",
        "66933 512\n",
        "Q7A77 686\n",
        "24QQT 564\n",
        "2J2T4 150\n",
        "JK4K4 386\n",
        "AAJAK 544\n",
        "727TJ 526\n",
        "QJT2T 183\n",
        "96A6T 244\n",
        "979T9 876\n",
        "2239Q 465\n",
        "8K69J 613\n",
        "57J54 258\n",
        "J843J 760\n",
        "JK333 99\n",
        "K2K8T 477\n",
        "T9983 75\n",
        "A222A 298\n",
        "22523 800\n",
        "9999K 840\n",
        "Q2KA8 511\n",
        "TTATT 368\n",
        "83584 793\n",
        "66966 787\n",
        "79949 158\n",
        "73722 711\n",
        "A36T6 987\n",
        "Q976J 541\n",
        "Q4J78 311\n",
        "AQJJ3 225\n",
        "888J6 893\n",
        "QJT44 922\n",
        "JAJKA 263\n",
        "5QQ7Q 962\n",
        "27277 581\n",
        "JKKJK 358\n",
        "88877 923\n",
        "4K3T4 45\n",
        "A8495 577\n",
        "A89J5 446\n",
        "6A355 952\n",
        "8AA8J 633\n",
        "32KJ2 163\n",
        "48282 497\n",
        "44JJ4 874\n",
        "KJ93A 674\n",
        "24444 848\n",
        "888J8 118\n",
        "99JA8 181\n",
        "58J57 66\n",
        "QKQKQ 143\n",
        "99JQK 125\n",
        "84KJ7 178\n",
        "J95KK 241\n",
        "6666T 284\n",
        "K9555 106\n",
        "7KQKK 513\n",
        "5Q4QQ 213\n",
        "88KK8 665\n",
        "7272J 100\n",
        "97Q34 492\n",
        "8569K 262\n",
        "222KK 925\n",
        "23J4A 55\n",
        "9868A 331\n",
        "2222Q 758\n",
        "2J553 754\n",
        "7727A 25\n",
        "K3QKQ 673\n",
        "9J292 796\n",
        "45K44 363\n",
        "888JK 639\n",
        "8K43A 851\n",
        "AQ6J2 517\n",
        "K4K4K 352\n",
        "2K224 802\n",
        "2T44A 934\n",
        "595J5 63\n",
        "5Q6QQ 126\n",
        "QA59J 432\n",
        "5A55J 357\n",
        "J738A 80\n",
        "K666K 278\n",
        "9QQ6A 978\n",
        "93242 614\n",
        "7KK77 661\n",
        "JA9KK 855\n",
        "33T53 634\n",
        "6T2AK 882\n",
        "2K64T 586\n",
        "5AT68 584\n",
        "Q36A7 846\n",
        "22228 382\n",
        "444J4 402\n",
        "27AA7 24\n",
        "KKAJA 230\n",
        "8JA5T 663\n",
        "A2828 131\n",
        "7AAAQ 914\n",
        "3345K 997\n",
        "275TQ 606\n",
        "9KJ58 569\n",
        "JTTT7 416\n",
        "993J9 408\n",
        "84J55 28\n",
        "KTKK2 784\n",
        "98K24 206\n",
        "J5KJK 841\n",
        "33944 651\n",
        "6K7KA 392\n",
        "T2T92 346\n",
        "33323 187\n",
        "JQT59 729\n",
        "TT2TT 590\n",
        "2A67K 790\n",
        "QKAQJ 159\n",
        "T3TQJ 303\n",
        "QQ227 478\n",
        "J2852 708\n",
        "83834 458\n",
        "67Q6T 524\n",
        "26262 552\n",
        "T4J45 452\n",
        "2Q5T6 966\n",
        "QKKT6 160\n",
        "KQK9Q 273\n",
        "8Q333 192\n",
        "4656A 557\n",
        "64444 83\n",
        "59434 781\n",
        "357KK 558\n",
        "T4QJJ 655\n",
        "3625T 142\n",
        "29992 752\n",
        "A7AAA 220\n",
        "24KKK 448\n",
        "J89Q8 40\n",
        "9569A 328\n",
        "K7TK7 921\n",
        "5T777 859\n",
        "7474T 699\n",
        "39A7J 49\n",
        "9QTJQ 880\n",
        "Q844Q 819\n",
        "JJKKJ 112\n",
        "8Q88J 177\n",
        "K3T89 779\n",
        "Q365Q 277\n",
        "8488A 522\n",
        "J3A3K 199\n",
        "5AAA5 147\n",
        "96586 568\n",
        "88Q48 709\n",
        "Q85Q8 414\n",
        "37QAQ 102\n",
        "K33K2 281\n",
        "7676J 387\n",
        "26666 348\n",
        "AA868 744\n",
        "9K9TT 658\n",
        "22233 942\n",
        "6Q6K8 745\n",
        "A4AA7 459\n",
        "66J76 110\n",
        "J282T 173\n",
        "23A24 732\n",
        "KK7K2 580\n",
        "43344 509\n",
        "54Q8T 906\n",
        "96967 57\n",
        "525J8 417\n",
        "628Q7 919\n",
        "2775T 487\n",
        "A5T67 337\n",
        "7T887 662\n",
        "K944K 470\n",
        "289AJ 592\n",
        "A6AAA 97\n",
        "52Q49 482\n",
        "7AK7J 904\n",
        "688JJ 462\n",
        "6Q335 724\n",
        "23342 47\n",
        "5KKKK 276\n",
        "62665 548\n",
        "4KJ63 67\n",
        "TTA6Q 332\n",
        "AQ5AQ 156\n",
        "J33JJ 232\n",
        "J88J8 483\n",
        "JT5A9 936\n",
        "62ATA 549\n",
        "J6T33 486\n",
        "6Q46Q 679\n",
        "27J2T 693\n",
        "2A9QT 775\n",
        "KJ524 638\n",
        "93JQ2 969\n",
        "7JJ77 991\n",
        "55552 53\n",
        "88868 148\n",
        "3TJT4 349\n",
        "7QJ77 990\n",
        "77797 957\n",
        "JJ464 350\n",
        "J68K8 82\n",
        "2522A 451\n",
        "49AA4 329\n",
        "AAQQA 23\n",
        "J4K44 870\n",
        "57J55 700\n",
        "3AA64 832\n",
        "746JK 525\n",
        "25522 986\n",
        "TK333 38\n",
        "Q44QQ 268\n",
        "Q3KA3 857\n",
        "55T57 844\n",
        "9K57Q 430\n",
        "KKAA8 671\n",
        "6J546 669\n",
        "9K779 909\n",
        "588J8 630\n",
        "26266 668\n",
        "J6999 26\n",
        "AATAQ 227\n",
        "7994T 871\n",
        "47466 419\n",
        "A4929 713\n",
        "QKKKK 618\n",
        "T9Q83 265\n",
        "55595 799\n",
        "JJJJJ 64\n",
        "29A84 696\n",
        "5AAAA 285\n",
        "5T6KQ 215\n",
        "42447 161\n",
        "33337 418\n",
        "JJTTT 774\n",
        "88388 965\n",
        "22J75 43\"\"\""
      ],
      "metadata": {
        "id": "12LO_FdkRRgp"
      },
      "execution_count": 199,
      "outputs": []
    },
    {
      "cell_type": "markdown",
      "source": [
        "# get the answer"
      ],
      "metadata": {
        "id": "hrver3UsRSE-"
      }
    },
    {
      "cell_type": "code",
      "source": [
        "get_answer(input)"
      ],
      "metadata": {
        "colab": {
          "base_uri": "https://localhost:8080/"
        },
        "id": "FghmoW78RTDh",
        "outputId": "37495b19-2817-4dcb-be12-728542bdbaf1"
      },
      "execution_count": 200,
      "outputs": [
        {
          "output_type": "execute_result",
          "data": {
            "text/plain": [
              "248217452"
            ]
          },
          "metadata": {},
          "execution_count": 200
        }
      ]
    },
    {
      "cell_type": "markdown",
      "source": [
        "# Task 2"
      ],
      "metadata": {
        "id": "HWEqTACPRqjT"
      }
    },
    {
      "cell_type": "markdown",
      "source": [
        "first update the sorting function to change the sorting alphabet"
      ],
      "metadata": {
        "id": "Ft-2bnvnR-Ho"
      }
    },
    {
      "cell_type": "code",
      "source": [
        "def sort_cards_by_single_cards2(cards, bids):\n",
        "  alphabet = \"J23456789TQKA\"\n",
        "  indices = list(np.arange(len(cards)))\n",
        "  indices_sorted = sorted(indices, key=lambda x: [alphabet.index(c) for c in cards[x]])\n",
        "  return [cards[i] for i in indices_sorted], [bids[i] for i in indices_sorted]"
      ],
      "metadata": {
        "id": "oDP5-li0RsIh"
      },
      "execution_count": 201,
      "outputs": []
    },
    {
      "cell_type": "code",
      "source": [
        "c = 'T55J5'\n",
        "cards_type_with_jokers(c)"
      ],
      "metadata": {
        "colab": {
          "base_uri": "https://localhost:8080/"
        },
        "id": "wuexPwt-WzW0",
        "outputId": "2f43643c-bf64-4b4b-ec11-42abff31dd1f"
      },
      "execution_count": 202,
      "outputs": [
        {
          "output_type": "execute_result",
          "data": {
            "text/plain": [
              "4"
            ]
          },
          "metadata": {},
          "execution_count": 202
        }
      ]
    },
    {
      "cell_type": "code",
      "source": [
        "def get_all_cards_types_with_jokers(game):\n",
        "  result = []\n",
        "  for cards in game:\n",
        "    result.append(cards_type_with_jokers(cards))\n",
        "  return result\n",
        "\n",
        "def cards_type_with_jokers(cards):\n",
        "\n",
        "  if 'J' in cards:\n",
        "    # intuitively, should i just swap J for the most common card?\n",
        "    # careful - 'J' could be the most occuring card\n",
        "    if cards == 'JJJJJ':\n",
        "      return 5\n",
        "    cards_temp = cards.replace('J', '')\n",
        "    cards_freq = Counter(cards_temp)\n",
        "    most_occuring_card = max(cards_freq, key=cards_freq.get)\n",
        "\n",
        "    cards = cards.replace('J', most_occuring_card)\n",
        "  return cards_type(cards)"
      ],
      "metadata": {
        "id": "biivOETWS7Cy"
      },
      "execution_count": 203,
      "outputs": []
    },
    {
      "cell_type": "code",
      "source": [
        "def get_answer2(input):\n",
        "  cards, bids = get_cards_and_bids(input)\n",
        "  cards, bids = sort_cards_by_single_cards2(cards, bids)\n",
        "  types = get_all_cards_types_with_jokers(cards)\n",
        "  types_np = np.array(types)\n",
        "  # I wanted to use argsort but it changes order of the elements!!!\n",
        "  unique_types = np.unique(types)\n",
        "  result = 0\n",
        "  order = 1\n",
        "  for t in unique_types:\n",
        "    # find all indices of cards with that type\n",
        "    ind = np.argwhere(types_np == t).flatten()\n",
        "    # find corresponding bids\n",
        "    bids_won = [bids[i] for i in ind]\n",
        "    # multiply by bids\n",
        "    for b in bids_won:\n",
        "      result += order * b\n",
        "      order += 1\n",
        "  return result\n",
        "\n"
      ],
      "metadata": {
        "id": "m6rSly6SSB66"
      },
      "execution_count": 204,
      "outputs": []
    },
    {
      "cell_type": "code",
      "source": [
        "get_answer2(test_01)"
      ],
      "metadata": {
        "colab": {
          "base_uri": "https://localhost:8080/"
        },
        "id": "g-dcSIUmWvIv",
        "outputId": "2c49810c-3888-49f7-c1da-7d17a2ff39e3"
      },
      "execution_count": 205,
      "outputs": [
        {
          "output_type": "execute_result",
          "data": {
            "text/plain": [
              "5905"
            ]
          },
          "metadata": {},
          "execution_count": 205
        }
      ]
    },
    {
      "cell_type": "code",
      "source": [
        "get_answer2(input)"
      ],
      "metadata": {
        "colab": {
          "base_uri": "https://localhost:8080/"
        },
        "id": "mLA_8zrSXRnx",
        "outputId": "dce3e446-0dc5-4041-9acf-f723008d7adf"
      },
      "execution_count": 206,
      "outputs": [
        {
          "output_type": "execute_result",
          "data": {
            "text/plain": [
              "245576185"
            ]
          },
          "metadata": {},
          "execution_count": 206
        }
      ]
    },
    {
      "cell_type": "code",
      "source": [],
      "metadata": {
        "id": "eX5H-gdfXwbh"
      },
      "execution_count": 206,
      "outputs": []
    }
  ]
}